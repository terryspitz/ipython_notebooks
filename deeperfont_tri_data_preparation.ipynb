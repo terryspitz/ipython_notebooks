{
  "nbformat": 4,
  "nbformat_minor": 0,
  "metadata": {
    "colab": {
      "name": "deeperfont_tri_data_preparation.ipynb",
      "version": "0.3.2",
      "provenance": [],
      "collapsed_sections": [],
      "include_colab_link": true
    },
    "kernelspec": {
      "name": "python3",
      "display_name": "Python 3"
    }
  },
  "cells": [
    {
      "cell_type": "markdown",
      "metadata": {
        "id": "view-in-github",
        "colab_type": "text"
      },
      "source": [
        "<a href=\"https://colab.research.google.com/github/terryspitz/ipython_notebooks/blob/master/deeperfont_tri_data_preparation.ipynb\" target=\"_parent\"><img src=\"https://colab.research.google.com/assets/colab-badge.svg\" alt=\"Open In Colab\"/></a>"
      ]
    },
    {
      "metadata": {
        "id": "w4XBX_GBow0Z",
        "colab_type": "code",
        "outputId": "b321ddac-1e5f-4c2c-eada-bbe921c82383",
        "colab": {
          "base_uri": "https://localhost:8080/",
          "height": 519
        }
      },
      "cell_type": "code",
      "source": [
        "#jupyter notebook --NotebookApp.allow_origin='https://colab.research.google.com' --port=8888\n",
        "from enum import Enum, IntEnum\n",
        "import math\n",
        "import os\n",
        "import glob\n",
        "import xml.etree.ElementTree as ET\n",
        "import numpy as np\n",
        "from PIL import Image, ImageDraw, ImageChops, ImageFont\n",
        "from IPython.display import display\n",
        "import tensorflow as tf\n",
        "print(np.__version__)\n",
        "print(tf.__version__)\n",
        "np.set_printoptions(precision=2)\n",
        "tf.enable_eager_execution()\n",
        "\n",
        "import matplotlib.pyplot as plt\n",
        "#!pip install triangle\n",
        "import triangle as tr\n",
        "\n",
        "#!pip install fonttools\n",
        "from fontTools.ttLib import TTFont\n"
      ],
      "execution_count": 3,
      "outputs": [
        {
          "output_type": "stream",
          "text": [
            "1.14.2\n",
            "1.10.0\n"
          ],
          "name": "stdout"
        },
        {
          "output_type": "error",
          "ename": "ValueError",
          "evalue": "ignored",
          "traceback": [
            "\u001b[1;31m---------------------------------------------------------------------------\u001b[0m",
            "\u001b[1;31mValueError\u001b[0m                                Traceback (most recent call last)",
            "\u001b[1;32m<ipython-input-3-6fe01dc117e8>\u001b[0m in \u001b[0;36m<module>\u001b[1;34m()\u001b[0m\n\u001b[0;32m     11\u001b[0m \u001b[0mprint\u001b[0m\u001b[1;33m(\u001b[0m\u001b[0mtf\u001b[0m\u001b[1;33m.\u001b[0m\u001b[0m__version__\u001b[0m\u001b[1;33m)\u001b[0m\u001b[1;33m\u001b[0m\u001b[0m\n\u001b[0;32m     12\u001b[0m \u001b[0mnp\u001b[0m\u001b[1;33m.\u001b[0m\u001b[0mset_printoptions\u001b[0m\u001b[1;33m(\u001b[0m\u001b[0mprecision\u001b[0m\u001b[1;33m=\u001b[0m\u001b[1;36m2\u001b[0m\u001b[1;33m)\u001b[0m\u001b[1;33m\u001b[0m\u001b[0m\n\u001b[1;32m---> 13\u001b[1;33m \u001b[0mtf\u001b[0m\u001b[1;33m.\u001b[0m\u001b[0menable_eager_execution\u001b[0m\u001b[1;33m(\u001b[0m\u001b[1;33m)\u001b[0m\u001b[1;33m\u001b[0m\u001b[0m\n\u001b[0m\u001b[0;32m     14\u001b[0m \u001b[1;33m\u001b[0m\u001b[0m\n\u001b[0;32m     15\u001b[0m \u001b[1;32mimport\u001b[0m \u001b[0mmatplotlib\u001b[0m\u001b[1;33m.\u001b[0m\u001b[0mpyplot\u001b[0m \u001b[1;32mas\u001b[0m \u001b[0mplt\u001b[0m\u001b[1;33m\u001b[0m\u001b[0m\n",
            "\u001b[1;32m~\\Anaconda3\\lib\\site-packages\\tensorflow\\python\\framework\\ops.py\u001b[0m in \u001b[0;36menable_eager_execution\u001b[1;34m(config, device_policy, execution_mode)\u001b[0m\n\u001b[0;32m   5185\u001b[0m   \"\"\"\n\u001b[0;32m   5186\u001b[0m   return enable_eager_execution_internal(\n\u001b[1;32m-> 5187\u001b[1;33m       config, device_policy, execution_mode, None)\n\u001b[0m\u001b[0;32m   5188\u001b[0m \u001b[1;33m\u001b[0m\u001b[0m\n\u001b[0;32m   5189\u001b[0m \u001b[1;33m\u001b[0m\u001b[0m\n",
            "\u001b[1;32m~\\Anaconda3\\lib\\site-packages\\tensorflow\\python\\framework\\ops.py\u001b[0m in \u001b[0;36menable_eager_execution_internal\u001b[1;34m(config, device_policy, execution_mode, server_def)\u001b[0m\n\u001b[0;32m   5253\u001b[0m   \u001b[1;32melse\u001b[0m\u001b[1;33m:\u001b[0m\u001b[1;33m\u001b[0m\u001b[0m\n\u001b[0;32m   5254\u001b[0m     raise ValueError(\n\u001b[1;32m-> 5255\u001b[1;33m         \"tf.enable_eager_execution must be called at program startup.\")\n\u001b[0m\u001b[0;32m   5256\u001b[0m \u001b[1;33m\u001b[0m\u001b[0m\n\u001b[0;32m   5257\u001b[0m   \u001b[1;31m# Monkey patch to get rid of an unnecessary conditional since the context is\u001b[0m\u001b[1;33m\u001b[0m\u001b[1;33m\u001b[0m\u001b[0m\n",
            "\u001b[1;31mValueError\u001b[0m: tf.enable_eager_execution must be called at program startup."
          ]
        }
      ]
    },
    {
      "metadata": {
        "id": "jo8MRV5wpHhH",
        "colab_type": "code",
        "outputId": "2bc70854-f433-4059-bc7f-c452672e64b3",
        "colab": {
          "base_uri": "https://localhost:8080/",
          "height": 225
        }
      },
      "cell_type": "code",
      "source": [
        "#A = dict(vertices=np.array(((0, 0), (1, 0), (1, 1), (0, 1))))\n",
        "A = tr.get_data('A')\n",
        "B = tr.triangulate(A, opts='p')\n",
        "tr.compare(plt, A, B)\n",
        "plt.show()"
      ],
      "execution_count": 5,
      "outputs": [
        {
          "output_type": "display_data",
          "data": {
            "text/plain": [
              "<matplotlib.figure.Figure at 0x17c6dd7b0f0>"
            ],
            "image/png": "[encoded data removed]"
          },
          "metadata": {
            "tags": []
          }
        }
      ]
    },
    {
      "metadata": {
        "id": "obJp6xKWpQHy",
        "colab_type": "code",
        "colab": {}
      },
      "cell_type": "code",
      "source": [
        "#Read Font outlines from local font files and write outlines to file for fitting\n",
        "\n",
        "def getCoordinates(font:TTFont, glyphName:str):\n",
        "    \"\"\"font, glyphName --> glyph coordinates as expected by \"gvar\" table\n",
        "    The result includes four \"phantom points\" for the glyph metrics,\n",
        "    as mandated by the \"gvar\" spec.\n",
        "    Function from https://github.com/fonttools/fonttools/blob/master/Snippets/interpolate.py\n",
        "    By inspection coords[0] are all points, and coords[1] are the end of the ranges for each contour (shape)\n",
        "    \"\"\"\n",
        "    glyphTable = font[\"glyf\"]\n",
        "    glyph = glyphTable.glyphs.get(glyphName)\n",
        "    if glyph is None:\n",
        "        return None\n",
        "    glyph.expand(glyphTable)\n",
        "    glyph.recalcBounds(glyphTable)\n",
        "    coords = glyph.getCoordinates(glyphTable)\n",
        "    start=0\n",
        "    contours = []\n",
        "    for end in coords[1]:\n",
        "        contours.append(coords[0][start:end+1])\n",
        "        start=end+1\n",
        "    return contours\n",
        "\n",
        "class Stroke(IntEnum):\n",
        "    \"\"\"\n",
        "    Enum defining data contents of last dimension\n",
        "    \"\"\"\n",
        "    DX = 0\n",
        "    DY = 1\n",
        "    PenDown = 2  # +1 draw stroke, 0 if this stroke is hidden, i.e. to move between contours in the glyph\n",
        "    EndOfGlyph = 3  # +1 indicates this stroke is the last of the current glyph, else 0\n",
        "    Size = 4  # size of this enum\n",
        "    \n",
        "def generateOutlines(fontfile:str, glyphs:str, max_outline_points:int):\n",
        "    \"\"\"\n",
        "    Read the actual points from all glyphs in the font into numpy array.\n",
        "    Output is array of glyphs x points x 2 (angle in radians, distance).\n",
        "    We use float not the original ints from the font - according to https://github.com/fchollet/keras/issues/2218.\n",
        "    \"\"\"\n",
        "    font = TTFont(fontfile)\n",
        "    unitsPerEm = font['head'].unitsPerEm *0.7\n",
        "    outlines = np.zeros((max_outline_points, Stroke.Size), np.float32)\n",
        "    j = 0\n",
        "    for i, letter in enumerate(glyphs):\n",
        "        contours = getCoordinates(font, letter)\n",
        "        startp = (0,0)\n",
        "        #ttx contours are areas within the glyph, like the outside and inside outlines of an O\n",
        "        for xy in contours:\n",
        "            #fill output matrix, start with hidden line to start position\n",
        "            outlines[j,Stroke.DX] = (xy[0][0]-startp[0])/ unitsPerEm\n",
        "            outlines[j,Stroke.DY] = (xy[0][1]-startp[1])/ unitsPerEm\n",
        "            outlines[j,Stroke.PenDown] = 0\n",
        "            j = j+1\n",
        "            if j>=max_outline_points: break\n",
        "            startp = xy[0]\n",
        "            #then between points\n",
        "            for n in range(len(xy)-1):\n",
        "                outlines[j,Stroke.DX] = (xy[n+1][0]-xy[n][0])/ unitsPerEm\n",
        "                outlines[j,Stroke.DY] = (xy[n+1][1]-xy[n][1])/ unitsPerEm\n",
        "                outlines[j,Stroke.PenDown] = 1\n",
        "                j = j+1\n",
        "                if j>=max_outline_points: break\n",
        "            #finally wrap last point to first in contour\n",
        "            outlines[j,Stroke.DX] = (xy[0][0]-xy[-1][0])/ unitsPerEm\n",
        "            outlines[j,Stroke.DY] = (xy[0][1]-xy[-1][1])/ unitsPerEm\n",
        "            outlines[j,Stroke.PenDown] = 1\n",
        "            j = j+1\n",
        "            if j>=max_outline_points: break\n",
        "        outlines[j-1,Stroke.EndOfGlyph] = 1  # otherwise leave as 0\n",
        "    print(\"Font %s has %d points\" % (fontfile, j))\n",
        "    return outlines\n",
        "  \n",
        "def readFonts(files: [str], glyphs: str, max_outline_points:int):\n",
        "    print('loading {} files'.format(len(files)))\n",
        "    outlines = []\n",
        "    for i, fontfile in enumerate(files):\n",
        "        outlines.append(generateOutlines(fontfile, glyphs, max_outline_points))\n",
        "    return np.stack(outlines)\n"
      ],
      "execution_count": 0,
      "outputs": []
    },
    {
      "metadata": {
        "id": "7GC0CJ26u5IH",
        "colab_type": "code",
        "outputId": "a1a0336e-3813-4f97-d4d4-9c3c22389284",
        "colab": {
          "base_uri": "https://localhost:8080/",
          "height": 431
        }
      },
      "cell_type": "code",
      "source": [
        "print('setup...')\n",
        "glyphs = [chr(i) for i in range(ord('A'), ord('Z')+1)]\n",
        "glyphs += [chr(i) for i in range(ord('a'), ord('z')+1)]\n",
        "glyphs += ['zero','one','two','three','four','five','six','seven','eight','nine']\n",
        "#glyphs = ['A','B','a','b','one','two']\n",
        "#glyphs = ['one','two','one','two']\n",
        "glyphs = ['A'] + glyphs\n",
        "max_points_per_scanline = 10 # required for g, m\n",
        "max_outline_points = 5000\n",
        "ygrid = np.linspace(0.0, 1.0, 30, endpoint=False) #y coordinates to render on\n",
        "files = glob.glob('deeper/fonts/*.ttf')\n",
        "outlines = readFonts(files, glyphs, max_outline_points)\n",
        "testoutlines = tf.constant([[[0.2,0.2,0,0],[0.6,0,1,0],[0,0.6,1,0],[-0.6,0,1,0],[0,-0.6,1,1]]], dtype=tf.float32)\n",
        "testoutlines = tf.tile(outlines, (1, 10, 1))\n",
        "testglyphs = ['A'] * 10\n",
        "print(\"outline shape (fonts, max_points_per_font, Stroke.Size): \", outlines.shape)\n",
        "display(drawOutlines(outlines, 30, len(glyphs)))\n",
        "\n",
        "#test the TF scanline algorithm\n",
        "for i in range(outlines.shape[0]):\n",
        "  scanlines = outlinesToScanlines(outlines[i], max_points_per_scanline, ygrid, len(glyphs))\n",
        "  print(\"scanlines shape: \", scanlines.shape)\n",
        "  display(drawScanLines(scanlines, ygrid, 20))"
      ],
      "execution_count": 7,
      "outputs": [
        {
          "output_type": "stream",
          "text": [
            "setup...\n",
            "loading 8 files\n",
            "Font deeper/fonts\\AndikaNewBasic-B.ttf has 2445 points\n",
            "Font deeper/fonts\\AndikaNewBasic-BI.ttf has 2871 points\n",
            "Font deeper/fonts\\AndikaNewBasic-I.ttf has 2876 points\n",
            "Font deeper/fonts\\AndikaNewBasic-R.ttf has 2462 points\n",
            "Font deeper/fonts\\Courier Prime Bold Italic.ttf has 4260 points\n",
            "Font deeper/fonts\\Courier Prime Bold.ttf has 4162 points\n",
            "Font deeper/fonts\\Courier Prime Italic.ttf has 3599 points\n",
            "Font deeper/fonts\\Courier Prime.ttf has 3551 points\n",
            "outline shape (fonts, max_points_per_font, Stroke.Size):  (8, 5000, 4)\n"
          ],
          "name": "stdout"
        },
        {
          "output_type": "error",
          "ename": "NameError",
          "evalue": "ignored",
          "traceback": [
            "\u001b[1;31m---------------------------------------------------------------------------\u001b[0m",
            "\u001b[1;31mNameError\u001b[0m                                 Traceback (most recent call last)",
            "\u001b[1;32m<ipython-input-7-3ef143bbba9a>\u001b[0m in \u001b[0;36m<module>\u001b[1;34m()\u001b[0m\n\u001b[0;32m     15\u001b[0m \u001b[0mtestglyphs\u001b[0m \u001b[1;33m=\u001b[0m \u001b[1;33m[\u001b[0m\u001b[1;34m'A'\u001b[0m\u001b[1;33m]\u001b[0m \u001b[1;33m*\u001b[0m \u001b[1;36m10\u001b[0m\u001b[1;33m\u001b[0m\u001b[0m\n\u001b[0;32m     16\u001b[0m \u001b[0mprint\u001b[0m\u001b[1;33m(\u001b[0m\u001b[1;34m\"outline shape (fonts, max_points_per_font, Stroke.Size): \"\u001b[0m\u001b[1;33m,\u001b[0m \u001b[0moutlines\u001b[0m\u001b[1;33m.\u001b[0m\u001b[0mshape\u001b[0m\u001b[1;33m)\u001b[0m\u001b[1;33m\u001b[0m\u001b[0m\n\u001b[1;32m---> 17\u001b[1;33m \u001b[0mdisplay\u001b[0m\u001b[1;33m(\u001b[0m\u001b[0mdrawOutlines\u001b[0m\u001b[1;33m(\u001b[0m\u001b[0moutlines\u001b[0m\u001b[1;33m,\u001b[0m \u001b[1;36m30\u001b[0m\u001b[1;33m,\u001b[0m \u001b[0mlen\u001b[0m\u001b[1;33m(\u001b[0m\u001b[0mglyphs\u001b[0m\u001b[1;33m)\u001b[0m\u001b[1;33m)\u001b[0m\u001b[1;33m)\u001b[0m\u001b[1;33m\u001b[0m\u001b[0m\n\u001b[0m\u001b[0;32m     18\u001b[0m \u001b[1;33m\u001b[0m\u001b[0m\n\u001b[0;32m     19\u001b[0m \u001b[1;31m#test the TF scanline algorithm\u001b[0m\u001b[1;33m\u001b[0m\u001b[1;33m\u001b[0m\u001b[0m\n",
            "\u001b[1;31mNameError\u001b[0m: name 'drawOutlines' is not defined"
          ]
        }
      ]
    },
    {
      "metadata": {
        "id": "tKYXk3thzpjB",
        "colab_type": "code",
        "colab": {}
      },
      "cell_type": "code",
      "source": [
        "os."
      ],
      "execution_count": 0,
      "outputs": []
    }
  ]
}