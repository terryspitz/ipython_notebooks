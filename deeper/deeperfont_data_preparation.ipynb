{
  "nbformat": 4,
  "nbformat_minor": 0,
  "metadata": {
    "colab": {
      "name": "deeperfont_data_preparation.ipynb",
      "provenance": [],
      "collapsed_sections": [],
      "include_colab_link": true
    },
    "kernelspec": {
      "display_name": "Python 3",
      "language": "python",
      "name": "python3"
    },
    "language_info": {
      "codemirror_mode": {
        "name": "ipython",
        "version": 3
      },
      "file_extension": ".py",
      "mimetype": "text/x-python",
      "name": "python",
      "nbconvert_exporter": "python",
      "pygments_lexer": "ipython3",
      "version": "3.6.2"
    }
  },
  "cells": [
    {
      "cell_type": "markdown",
      "metadata": {
        "id": "view-in-github",
        "colab_type": "text"
      },
      "source": [
        "<a href=\"https://colab.research.google.com/github/terryspitz/ipython_notebooks/blob/master/deeper/deeperfont_data_preparation.ipynb\" target=\"_parent\"><img src=\"https://colab.research.google.com/assets/colab-badge.svg\" alt=\"Open In Colab\"/></a>"
      ]
    },
    {
      "cell_type": "markdown",
      "metadata": {
        "colab_type": "text",
        "id": "TzwyGOrLPOvD"
      },
      "source": [
        "Import TTF fonts and output training data: a series of point deltas (PX, PY) along with booleans for pen-up/pen-down and next-glyph."
      ]
    },
    {
      "cell_type": "code",
      "metadata": {
        "id": "4XyHnsaFAEbf",
        "colab_type": "code",
        "colab": {}
      },
      "source": [
        "# To start a local runtime:\n",
        "# jupyter notebook --NotebookApp.allow_origin='https://colab.research.google.com' --port=8888\n"
      ],
      "execution_count": null,
      "outputs": []
    },
    {
      "cell_type": "code",
      "metadata": {
        "colab_type": "code",
        "id": "fJn7ol5SPOvG",
        "colab": {
          "base_uri": "https://localhost:8080/",
          "height": 50
        },
        "outputId": "6b120872-91f6-4314-8098-a28ab46a388d"
      },
      "source": [
        "from enum import Enum, IntEnum\n",
        "import math\n",
        "import os\n",
        "import glob\n",
        "import xml.etree.ElementTree as ET\n",
        "import numpy as np\n",
        "from PIL import Image, ImageDraw, ImageChops, ImageFont\n",
        "from IPython.display import display\n",
        "import tensorflow as tf\n",
        "print('np', np.__version__)\n",
        "print('tf', tf.__version__)\n",
        "np.set_printoptions(precision=2)\n",
        "from google.colab import drive\n"
      ],
      "execution_count": 4,
      "outputs": [
        {
          "output_type": "stream",
          "text": [
            "np 1.18.5\n",
            "tf 2.3.0\n"
          ],
          "name": "stdout"
        }
      ]
    },
    {
      "cell_type": "code",
      "metadata": {
        "id": "lmvCYC-z_vN3",
        "colab_type": "code",
        "colab": {
          "base_uri": "https://localhost:8080/",
          "height": 121
        },
        "outputId": "5632bba8-a321-47fa-98ea-d4ba13459149"
      },
      "source": [
        "!pip install fonttools\n",
        "from fontTools.ttLib import TTFont\n"
      ],
      "execution_count": 5,
      "outputs": [
        {
          "output_type": "stream",
          "text": [
            "Collecting fonttools\n",
            "\u001b[?25l  Downloading https://files.pythonhosted.org/packages/58/89/932dc9478aae3c74f80f1cb390064fd4620d791e7f98b705160551e0ea39/fonttools-4.14.0-py3-none-any.whl (811kB)\n",
            "\u001b[K     |████████████████████████████████| 819kB 2.8MB/s \n",
            "\u001b[?25hInstalling collected packages: fonttools\n",
            "Successfully installed fonttools-4.14.0\n"
          ],
          "name": "stdout"
        }
      ]
    },
    {
      "cell_type": "code",
      "metadata": {
        "id": "4jfmecwJArUz",
        "colab_type": "code",
        "colab": {
          "base_uri": "https://localhost:8080/",
          "height": 121
        },
        "outputId": "3ecce0d3-c06c-47c3-970c-37dedd962887"
      },
      "source": [
        "# Connect to Google Drive to read fonts\n",
        "# from https://stackoverflow.com/questions/46986398/import-data-into-google-colaboratory\n",
        "from google.colab import drive\n",
        "drive.mount('/content/drive')"
      ],
      "execution_count": 6,
      "outputs": [
        {
          "output_type": "stream",
          "text": [
            "Go to this URL in a browser: https://accounts.google.com/o/oauth2/auth?client_id=947318989803-6bn6qk8qdgf4n4g3pfee6491hc0brc4i.apps.googleusercontent.com&redirect_uri=urn%3aietf%3awg%3aoauth%3a2.0%3aoob&scope=email%20https%3a%2f%2fwww.googleapis.com%2fauth%2fdocs.test%20https%3a%2f%2fwww.googleapis.com%2fauth%2fdrive%20https%3a%2f%2fwww.googleapis.com%2fauth%2fdrive.photos.readonly%20https%3a%2f%2fwww.googleapis.com%2fauth%2fpeopleapi.readonly&response_type=code\n",
            "\n",
            "Enter your authorization code:\n",
            "··········\n",
            "Mounted at /content/drive\n"
          ],
          "name": "stdout"
        }
      ]
    },
    {
      "cell_type": "code",
      "metadata": {
        "colab_type": "code",
        "id": "WQvWRJ_wPOvO",
        "colab": {}
      },
      "source": [
        "#Read Font outlines from local font files and write outlines to file for fitting\n",
        "def getCoordinates(font:TTFont, glyphName:str):\n",
        "    \"\"\"font, glyphName --> glyph coordinates as expected by \"gvar\" table\n",
        "    The result includes four \"phantom points\" for the glyph metrics,\n",
        "    as mandated by the \"gvar\" spec.\n",
        "    Function from https://github.com/fonttools/fonttools/blob/master/Snippets/interpolate.py\n",
        "    By inspection coords[0] are all points, and coords[1] are the end of the ranges for each contour (shape)\n",
        "    \"\"\"\n",
        "    glyphTable = font[\"glyf\"]\n",
        "    glyph = glyphTable.glyphs.get(glyphName)\n",
        "    if glyph is None:\n",
        "        return None\n",
        "    glyph.expand(glyphTable)\n",
        "    glyph.recalcBounds(glyphTable)\n",
        "    coords = glyph.getCoordinates(glyphTable)\n",
        "    start=0\n",
        "    contours = []\n",
        "    for end in coords[1]:\n",
        "        contours.append(coords[0][start:end+1])\n",
        "        start=end+1\n",
        "    return contours\n",
        "\n",
        "COORDINATE_BITS = 8\n",
        "MAX_COORD = 2**COORDINATE_BITS\n",
        "\n",
        "class Stroke(IntEnum):\n",
        "    \"\"\"\n",
        "    Enum defining data contents of last dimension\n",
        "    \"\"\"\n",
        "    PX = 0\n",
        "    PY = 1\n",
        "    PenDown = 2  # +1 draw stroke, 0 if this stroke is hidden, i.e. to move between contours in the glyph\n",
        "    EndOfGlyph = 3  # +1 indicates this stroke is the last of the current glyph, else 0\n",
        "    Size = 4  # size of this enum\n",
        "    \n",
        "\n",
        "def generateOutlines(fontfile:str, glyphs:str, max_outline_points:int):\n",
        "    \"\"\"\n",
        "    Read the actual points from all glyphs in the font into numpy array.\n",
        "    Output is array of glyphs x points x Stroke.Size, dtype=int\n",
        "    \"\"\"\n",
        "    font = TTFont(fontfile)\n",
        "    scale = float(MAX_COORD) / font['head'].unitsPerEm * 1.2\n",
        "    outlines = np.zeros((max_outline_points, Stroke.Size), np.int)\n",
        "    j = 0\n",
        "    for i, letter in enumerate(glyphs):\n",
        "        contours = getCoordinates(font, letter)\n",
        "        #ttx contours are areas within the glyph, like the outside and inside outlines of an O\n",
        "        for xy in contours:\n",
        "            #fill output matrix, start with hidden line to start position\n",
        "            outlines[j,Stroke.PX] = xy[0][0] * scale\n",
        "            outlines[j,Stroke.PY] = xy[0][1] * scale\n",
        "            outlines[j,Stroke.PenDown] = 0\n",
        "            j = j + 1\n",
        "            if j>=max_outline_points: break\n",
        "            for n in range(len(xy)-1):\n",
        "                outlines[j,Stroke.PX] = xy[n+1][0] * scale\n",
        "                outlines[j,Stroke.PY] = xy[n+1][1] * scale\n",
        "                outlines[j,Stroke.PenDown] = 1\n",
        "                j = j+1\n",
        "                if j>=max_outline_points: break\n",
        "            # #finally wrap last point to first in contour\n",
        "            # outlines[j,Stroke.PX] = (xy[0][0]-xy[-1][0])/ unitsPerEm\n",
        "            # outlines[j,Stroke.PY] = (xy[0][1]-xy[-1][1])/ unitsPerEm\n",
        "            # outlines[j,Stroke.PenDown] = 1\n",
        "            # j = j+1\n",
        "            # if j>=max_outline_points: break\n",
        "        outlines[j,Stroke.EndOfGlyph] = 1  # otherwise leave as 0\n",
        "        j = j+1\n",
        "    print(f\"Font {fontfile} has {j} points, range(PX)= {outlines.min(axis=1)[Stroke.PX]},{outlines.max(axis=1)[Stroke.PX]}, range(PY)= {outlines.min(axis=1)[Stroke.PY]},{outlines.max(axis=1)[Stroke.PY]}\")\n",
        "    return outlines\n",
        "  \n",
        "def readFonts(files: [str], glyphs: str, max_outline_points:int):\n",
        "    print('loading {} files'.format(len(files)))\n",
        "    outlines = []\n",
        "    for i, fontfile in enumerate(files):\n",
        "        outlines.append(generateOutlines(fontfile, glyphs, max_outline_points))\n",
        "    return np.stack(outlines)\n"
      ],
      "execution_count": 7,
      "outputs": []
    },
    {
      "cell_type": "code",
      "metadata": {
        "colab_type": "code",
        "id": "P5RLGsPlPOvV",
        "colab": {
          "base_uri": "https://localhost:8080/",
          "height": 205
        },
        "outputId": "d1ed9f45-b666-4851-ab9a-5edda48fa2bb"
      },
      "source": [
        "print('setup...')\n",
        "glyphs = []\n",
        "# glyphs += [chr(i) for i in range(ord('A'), ord('Z')+1)]\n",
        "glyphs += [chr(i) for i in range(ord('a'), ord('z')+1)]\n",
        "# glyphs += ['zero','one','two','three','four','five','six','seven','eight','nine']\n",
        "#glyphs = ['A','B','a','b','one','two']\n",
        "#glyphs = ['one','two','one','two']\n",
        "# glyphs = ['A'] + glyphs\n",
        "max_points_per_scanline = 10 # required for g, m\n",
        "max_outline_points = 2000\n",
        "#local: files = glob.glob('deeper/fonts/*.ttf')\n",
        "files = glob.glob('/content/drive/My Drive/Colab Notebooks/fonts/*.ttf')\n",
        "outlines = readFonts(files, glyphs, max_outline_points)\n",
        "# testoutlines = tf.constant([[[0.2,0.2,0,0],[0.6,0,1,0],[0,0.6,1,0],[-0.6,0,1,0],[0,-0.6,1,1]]], dtype=tf.float32)\n",
        "# testoutlines = tf.tile(outlines, (1, 10, 1))\n",
        "# testglyphs = ['A'] * 10\n"
      ],
      "execution_count": 8,
      "outputs": [
        {
          "output_type": "stream",
          "text": [
            "setup...\n",
            "loading 8 files\n",
            "Font /content/drive/My Drive/Colab Notebooks/fonts/AndikaNewBasic-BI.ttf has 1455 points, range(PX)= 0,118, range(PY)= 0,117\n",
            "Font /content/drive/My Drive/Colab Notebooks/fonts/Courier Prime Bold.ttf has 1747 points, range(PX)= 0,123, range(PY)= 0,111\n",
            "Font /content/drive/My Drive/Colab Notebooks/fonts/Courier Prime Italic.ttf has 1502 points, range(PX)= -3,72, range(PY)= -3,60\n",
            "Font /content/drive/My Drive/Colab Notebooks/fonts/AndikaNewBasic-R.ttf has 1078 points, range(PX)= 0,114, range(PY)= 0,111\n",
            "Font /content/drive/My Drive/Colab Notebooks/fonts/AndikaNewBasic-B.ttf has 1085 points, range(PX)= 0,115, range(PY)= 0,113\n",
            "Font /content/drive/My Drive/Colab Notebooks/fonts/Courier Prime.ttf has 1502 points, range(PX)= 0,164, range(PY)= 0,169\n",
            "Font /content/drive/My Drive/Colab Notebooks/fonts/Courier Prime Bold Italic.ttf has 1733 points, range(PX)= 0,117, range(PY)= 0,106\n",
            "Font /content/drive/My Drive/Colab Notebooks/fonts/AndikaNewBasic-I.ttf has 1459 points, range(PX)= 0,124, range(PY)= 0,121\n"
          ],
          "name": "stdout"
        }
      ]
    },
    {
      "cell_type": "code",
      "metadata": {
        "colab_type": "code",
        "id": "WRrFMeZZPOvR",
        "colab": {}
      },
      "source": [
        "def drawOutlines(outlines, cellsize, glyphCount):\n",
        "  \"\"\"Draw outline tensor.\"\"\"\n",
        "  im = Image.new('1', size=(glyphCount*cellsize, outlines.shape[0]*cellsize), color=(0))\n",
        "  def drawPoints(im, points):\n",
        "    if len(points)<=2:\n",
        "      return im\n",
        "    #temporary image to use to xor each part with main image\n",
        "    im2 = Image.new('1', size=(glyphCount*cellsize, outlines.shape[0]*cellsize), color=(0)) \n",
        "    draw = ImageDraw.Draw(im2).polygon(points, fill=1)\n",
        "    return ImageChops.logical_xor(im, im2)\n",
        "  scale = cellsize / MAX_COORD\n",
        "  for font in range(outlines.shape[0]):\n",
        "    i = 0\n",
        "    for glyphNum in range(glyphCount):\n",
        "      points = []\n",
        "      x0,y0 = (glyphNum * cellsize, (font+1) * cellsize)\n",
        "      #ImageDraw.Draw(im).line((glyphNum * cellsize, font * cellsize, glyphNum * cellsize, (font+1) * cellsize), fill=1)\n",
        "      #ImageDraw.Draw(im).line((glyphNum * cellsize, font * cellsize, (glyphNum+1) * cellsize, font * cellsize), fill=1)\n",
        "      while True:\n",
        "        x = x0 + outlines[font,i,Stroke.PX]*scale\n",
        "        y = y0 - outlines[font,i,Stroke.PY]*scale\n",
        "        #print(outlines[font,i], x,y)\n",
        "        if outlines[font,i,Stroke.PenDown]>0.5:\n",
        "          points += (x,y)\n",
        "        else:\n",
        "          im = drawPoints(im, points)\n",
        "          points=[(x,y)]\n",
        "        i+=1\n",
        "        if outlines[font,i,Stroke.EndOfGlyph]>0.5 or i>=outlines.shape[1]:\n",
        "          break\n",
        "      im = drawPoints(im, points)\n",
        "  return im\n"
      ],
      "execution_count": 9,
      "outputs": []
    },
    {
      "cell_type": "code",
      "metadata": {
        "id": "9VFgD8sVlj7i",
        "colab_type": "code",
        "colab": {
          "base_uri": "https://localhost:8080/",
          "height": 314
        },
        "outputId": "d7c107d1-5f1f-479f-a01c-2804ca23af09"
      },
      "source": [
        "cellsize = 100\n",
        "\n",
        "print(\"outline shape (fonts, max_points_per_scanline, Stroke.Size): \", outlines.shape)\n",
        "display(drawOutlines(outlines, cellsize, len(glyphs)))\n"
      ],
      "execution_count": 10,
      "outputs": [
        {
          "output_type": "stream",
          "text": [
            "outline shape (fonts, max_points_per_scanline, Stroke.Size):  (8, 2000, 4)\n"
          ],
          "name": "stdout"
        },
        {
          "output_type": "display_data",
          "data": {
            "image/png": "[encoded data removed]",
            "text/plain": [
              "<PIL.Image.Image image mode=1 size=2600x800 at 0x7F897A510E48>"
            ]
          },
          "metadata": {
            "tags": []
          }
        }
      ]
    },
    {
      "cell_type": "code",
      "metadata": {
        "colab_type": "code",
        "id": "Na0-3m6APOvM",
        "colab": {}
      },
      "source": [
        "def outlinesToScanlines(outlines, max_points_per_scanline, ygrid, glyphCount):\n",
        "    '''\n",
        "    Pure tensorflow function\n",
        "    Input: 2D tensor of max_outline_points * Stroke (PX,PY,PenDown,EndOfGlyph)\n",
        "    Output: glyphCount * y coord * sorted x coords for each scanline\n",
        "    '''\n",
        "    glyphNums = tf.cast(outlines[:-1,Stroke.EndOfGlyph]>0.5, tf.int32)\n",
        "    glyphNums = tf.cumsum(glyphNums, axis=-1)\n",
        "    glyphNums = tf.concat((tf.zeros([1], dtype=tf.int32), glyphNums), axis=0)\n",
        "    glyphNums2D = tf.expand_dims(tf.range(glyphCount),-1)\n",
        "    glyphNums2D = tf.tile(glyphNums2D, [1,glyphNums.shape[0]])\n",
        "    glyphNums2D = tf.math.equal(glyphNums2D, glyphNums)\n",
        "    glyphNums2D = tf.cast(glyphNums2D, tf.float32)\n",
        "    xs = tf.cast(outlines[:,Stroke.PX] * glyphNums2D, tf.float32) + 1e-2\n",
        "    ys = tf.cast(outlines[:,Stroke.PY] * glyphNums2D, tf.float32) + 1e-2\n",
        "    #offset to create line start x1,y1 to end x2,y2\n",
        "    #add 3rd dimension (size=1) so following interpolation in y is broadcast across all lines\n",
        "    x1s = tf.expand_dims(xs[:,:-1], -1)\n",
        "    x2s = tf.expand_dims(xs[:,1:], -1)\n",
        "    y1s = tf.expand_dims(ys[:,:-1], -1)\n",
        "    y2s = tf.expand_dims(ys[:,1:], -1)\n",
        "    #linear interpolate the x coords for all lines at all y coord\n",
        "    xxs = x1s + (x2s-x1s)*(ygrid-y1s)/(y2s-y1s)\n",
        "    #zero x coords outside of line y bounds or where PY=0 and for hidden lines\n",
        "    in_range = tf.logical_or(tf.logical_and(y1s<ygrid, ygrid<=y2s), tf.logical_and(y2s<ygrid, ygrid<=y1s))\n",
        "    in_range = tf.logical_and(in_range, y2s!=y1s)\n",
        "    visible = outlines[1:,Stroke.PenDown]>0.5\n",
        "    in_range = tf.logical_and(in_range, tf.expand_dims(visible,-1))\n",
        "    xxs = tf.where(in_range, xxs, tf.zeros_like(xxs)) \n",
        "    return tf.nn.top_k(tf.transpose(xxs, perm=(0,2,1)), max_points_per_scanline).values\n",
        "  \n",
        "def drawScanLines(xxs, ygrid, cellsize):\n",
        "    '''Draw a glyph rasterisation based on a input y coord array with array of x-intercepts of lines with the y coord'''\n",
        "    columns = math.ceil(1000/cellsize)\n",
        "    rows = 1 #math.ceil(xxs.shape[0]/columns)\n",
        "    scale = float(cellsize) / MAX_COORD * 0.9\n",
        "    im = Image.new('1', size=(columns*cellsize, rows*cellsize), color=(0)) \n",
        "    draw = ImageDraw.Draw(im) \n",
        "    for i in range(xxs.shape[0]):\n",
        "      yy,xx = divmod(i, columns)\n",
        "      xx *= cellsize\n",
        "      yy = (yy+1)*cellsize-1\n",
        "      for xs, y in zip(xxs[i], ygrid):\n",
        "        for j in range(0, xs.shape[0], 2):\n",
        "          if(xs[j]>1e-5):\n",
        "            if(xs[j+1]>1e-5):\n",
        "              draw.line((xx+xs[j]*scale, yy-y*scale, xx+xs[j+1]*scale, yy-y*scale), fill=1)\n",
        "            else:\n",
        "              draw.ellipse((xx+xs[j]*scale-1, yy-y*scale-1, xx+xs[j]*scale+1, yy-y*scale+1), fill=1)\n",
        "    return im  "
      ],
      "execution_count": 11,
      "outputs": []
    },
    {
      "cell_type": "code",
      "metadata": {
        "id": "AIYda_Mgo2_r",
        "colab_type": "code",
        "colab": {
          "base_uri": "https://localhost:8080/",
          "height": 882
        },
        "outputId": "4265753c-0dfe-4453-a3e0-171d2cf2c695"
      },
      "source": [
        "#test the TF scanline algorithm\n",
        "ygrid = np.linspace(0.0, 1.0, 30, endpoint=False) #y coordinates to render on\n",
        "\n",
        "for i in range(outlines.shape[0]):\n",
        "  scanlines = outlinesToScanlines(outlines[i], max_points_per_scanline, ygrid, len(glyphs))\n",
        "  print(\"scanlines shape: \", scanlines.shape)\n",
        "  display(drawScanLines(scanlines, ygrid, cellsize))"
      ],
      "execution_count": 12,
      "outputs": [
        {
          "output_type": "stream",
          "text": [
            "scanlines shape:  (26, 30, 10)\n"
          ],
          "name": "stdout"
        },
        {
          "output_type": "display_data",
          "data": {
            "image/png": "[encoded data removed]",
            "text/plain": [
              "<PIL.Image.Image image mode=1 size=1000x100 at 0x7F897A4D25C0>"
            ]
          },
          "metadata": {
            "tags": []
          }
        },
        {
          "output_type": "stream",
          "text": [
            "scanlines shape:  (26, 30, 10)\n"
          ],
          "name": "stdout"
        },
        {
          "output_type": "display_data",
          "data": {
            "image/png": "[encoded data removed]",
            "text/plain": [
              "<PIL.Image.Image image mode=1 size=1000x100 at 0x7F897A4D2748>"
            ]
          },
          "metadata": {
            "tags": []
          }
        },
        {
          "output_type": "stream",
          "text": [
            "scanlines shape:  (26, 30, 10)\n"
          ],
          "name": "stdout"
        },
        {
          "output_type": "display_data",
          "data": {
            "image/png": "[encoded data removed]",
            "text/plain": [
              "<PIL.Image.Image image mode=1 size=1000x100 at 0x7F897A4D24E0>"
            ]
          },
          "metadata": {
            "tags": []
          }
        },
        {
          "output_type": "stream",
          "text": [
            "scanlines shape:  (26, 30, 10)\n"
          ],
          "name": "stdout"
        },
        {
          "output_type": "display_data",
          "data": {
            "image/png": "[encoded data removed]",
            "text/plain": [
              "<PIL.Image.Image image mode=1 size=1000x100 at 0x7F89C7D322B0>"
            ]
          },
          "metadata": {
            "tags": []
          }
        },
        {
          "output_type": "stream",
          "text": [
            "scanlines shape:  (26, 30, 10)\n"
          ],
          "name": "stdout"
        },
        {
          "output_type": "display_data",
          "data": {
            "image/png": "[encoded data removed]",
            "text/plain": [
              "<PIL.Image.Image image mode=1 size=1000x100 at 0x7F897A4D24E0>"
            ]
          },
          "metadata": {
            "tags": []
          }
        },
        {
          "output_type": "stream",
          "text": [
            "scanlines shape:  (26, 30, 10)\n"
          ],
          "name": "stdout"
        },
        {
          "output_type": "display_data",
          "data": {
            "image/png": "[encoded data removed]",
            "text/plain": [
              "<PIL.Image.Image image mode=1 size=1000x100 at 0x7F89AF2703C8>"
            ]
          },
          "metadata": {
            "tags": []
          }
        },
        {
          "output_type": "stream",
          "text": [
            "scanlines shape:  (26, 30, 10)\n"
          ],
          "name": "stdout"
        },
        {
          "output_type": "display_data",
          "data": {
            "image/png": "[encoded data removed]",
            "text/plain": [
              "<PIL.Image.Image image mode=1 size=1000x100 at 0x7F89AF2703C8>"
            ]
          },
          "metadata": {
            "tags": []
          }
        },
        {
          "output_type": "stream",
          "text": [
            "scanlines shape:  (26, 30, 10)\n"
          ],
          "name": "stdout"
        },
        {
          "output_type": "display_data",
          "data": {
            "image/png": "[encoded data removed]",
            "text/plain": [
              "<PIL.Image.Image image mode=1 size=1000x100 at 0x7F897A4D2550>"
            ]
          },
          "metadata": {
            "tags": []
          }
        }
      ]
    },
    {
      "cell_type": "code",
      "metadata": {
        "colab_type": "code",
        "id": "li5pk9IDVmQA",
        "colab": {
          "base_uri": "https://localhost:8080/",
          "height": 34
        },
        "outputId": "199a778f-ce6e-4e63-d8c4-075c80d0bd8a"
      },
      "source": [
        "# drive.mount('/content/drive')\n",
        "\n",
        "# filename = r'C:\\src\\notebooks\\deeper\\fonts\\fonts8.tfrecords'\n",
        "# with open(filename, 'w') as writer:\n",
        "\n",
        "filename = '/content/drive/My Drive/Colab Notebooks/fonts/fonts8b.tfrecords'\n",
        "with tf.io.TFRecordWriter(filename) as writer:\n",
        "  print('Writing', filename)\n",
        "  for index in range(outlines.shape[0]):\n",
        "    example = tf.train.Example(\n",
        "      features=tf.train.Features(\n",
        "        feature={\n",
        "          'glyphNum': tf.train.Feature(int64_list=tf.train.Int64List(value=[len(glyphs)])),\n",
        "          'outline': tf.train.Feature(int64_list=tf.train.Int64List(value=outlines[index].flatten().tolist())),\n",
        "        }))\n",
        "    writer.write(example.SerializeToString())\n"
      ],
      "execution_count": 19,
      "outputs": [
        {
          "output_type": "stream",
          "text": [
            "Writing /content/drive/My Drive/Colab Notebooks/fonts/fonts8b.tfrecords\n"
          ],
          "name": "stdout"
        }
      ]
    },
    {
      "cell_type": "code",
      "metadata": {
        "colab_type": "code",
        "id": "q5oBsyY1aqFM",
        "colab": {
          "base_uri": "https://localhost:8080/",
          "height": 383
        },
        "outputId": "2ec2056c-d8fd-4d26-c340-78fce9463080"
      },
      "source": [
        "def parse_proto(example_proto):\n",
        "  features = {\n",
        "    'glyphNum': tf.io.FixedLenFeature([], tf.int64),\n",
        "    'outline': tf.io.FixedLenFeature([2000*4], tf.int64),\n",
        "  }\n",
        "  return tf.io.parse_single_example(example_proto, features)\n",
        "\n",
        "buffer_size=10000\n",
        "batch_size=10\n",
        "#dataset = tf.python_io.tf_record_iterator(filename)\n",
        "dataset = tf.data.TFRecordDataset(filename)\n",
        "# for d in dataset:\n",
        "#   print(parse_proto(d))\n",
        "dataset = dataset.map(parse_proto)\n",
        "dataset = dataset.shuffle(buffer_size)\n",
        "dataset = dataset.repeat()\n",
        "dataset = dataset.batch(batch_size)\n",
        "\n",
        "for next_element in dataset:\n",
        "  print(next_element)\n",
        "  assert next_element[\"glyphNum\"].numpy()[0] == 63\n",
        "  assert next_element[\"outline\"].shape[0].value == batch_size\n",
        "  assert next_element[\"outline\"].shape[1].value == 20000\n",
        "  break\n",
        "  "
      ],
      "execution_count": 31,
      "outputs": [
        {
          "output_type": "stream",
          "text": [
            "{'glyphNum': <tf.Tensor: shape=(10,), dtype=int64, numpy=array([26, 26, 26, 26, 26, 26, 26, 26, 26, 26])>, 'outline': <tf.Tensor: shape=(10, 8000), dtype=int64, numpy=\n",
            "array([[124,  72,   0, ...,   0,   0,   0],\n",
            "       [114,  74,   0, ...,   0,   0,   0],\n",
            "       [164,  20,   0, ...,   0,   0,   0],\n",
            "       ...,\n",
            "       [117,  19,   0, ...,   0,   0,   0],\n",
            "       [115,  71,   0, ...,   0,   0,   0],\n",
            "       [124,  72,   0, ...,   0,   0,   0]])>}\n"
          ],
          "name": "stdout"
        },
        {
          "output_type": "error",
          "ename": "AssertionError",
          "evalue": "ignored",
          "traceback": [
            "\u001b[0;31m---------------------------------------------------------------------------\u001b[0m",
            "\u001b[0;31mAssertionError\u001b[0m                            Traceback (most recent call last)",
            "\u001b[0;32m<ipython-input-31-0a2dffc5e9b1>\u001b[0m in \u001b[0;36m<module>\u001b[0;34m()\u001b[0m\n\u001b[1;32m     19\u001b[0m \u001b[0;32mfor\u001b[0m \u001b[0mnext_element\u001b[0m \u001b[0;32min\u001b[0m \u001b[0mdataset\u001b[0m\u001b[0;34m:\u001b[0m\u001b[0;34m\u001b[0m\u001b[0;34m\u001b[0m\u001b[0m\n\u001b[1;32m     20\u001b[0m   \u001b[0mprint\u001b[0m\u001b[0;34m(\u001b[0m\u001b[0mnext_element\u001b[0m\u001b[0;34m)\u001b[0m\u001b[0;34m\u001b[0m\u001b[0;34m\u001b[0m\u001b[0m\n\u001b[0;32m---> 21\u001b[0;31m   \u001b[0;32massert\u001b[0m \u001b[0mnext_element\u001b[0m\u001b[0;34m[\u001b[0m\u001b[0;34m\"glyphNum\"\u001b[0m\u001b[0;34m]\u001b[0m\u001b[0;34m.\u001b[0m\u001b[0mnumpy\u001b[0m\u001b[0;34m(\u001b[0m\u001b[0;34m)\u001b[0m\u001b[0;34m[\u001b[0m\u001b[0;36m0\u001b[0m\u001b[0;34m]\u001b[0m \u001b[0;34m==\u001b[0m \u001b[0;36m63\u001b[0m\u001b[0;34m\u001b[0m\u001b[0;34m\u001b[0m\u001b[0m\n\u001b[0m\u001b[1;32m     22\u001b[0m   \u001b[0;32massert\u001b[0m \u001b[0mnext_element\u001b[0m\u001b[0;34m[\u001b[0m\u001b[0;34m\"outline\"\u001b[0m\u001b[0;34m]\u001b[0m\u001b[0;34m.\u001b[0m\u001b[0mshape\u001b[0m\u001b[0;34m[\u001b[0m\u001b[0;36m0\u001b[0m\u001b[0;34m]\u001b[0m\u001b[0;34m.\u001b[0m\u001b[0mvalue\u001b[0m \u001b[0;34m==\u001b[0m \u001b[0mbatch_size\u001b[0m\u001b[0;34m\u001b[0m\u001b[0;34m\u001b[0m\u001b[0m\n\u001b[1;32m     23\u001b[0m   \u001b[0;32massert\u001b[0m \u001b[0mnext_element\u001b[0m\u001b[0;34m[\u001b[0m\u001b[0;34m\"outline\"\u001b[0m\u001b[0;34m]\u001b[0m\u001b[0;34m.\u001b[0m\u001b[0mshape\u001b[0m\u001b[0;34m[\u001b[0m\u001b[0;36m1\u001b[0m\u001b[0;34m]\u001b[0m\u001b[0;34m.\u001b[0m\u001b[0mvalue\u001b[0m \u001b[0;34m==\u001b[0m \u001b[0;36m20000\u001b[0m\u001b[0;34m\u001b[0m\u001b[0;34m\u001b[0m\u001b[0m\n",
            "\u001b[0;31mAssertionError\u001b[0m: "
          ]
        }
      ]
    },
    {
      "cell_type": "code",
      "metadata": {
        "colab_type": "code",
        "id": "-8x78VVMb_R1",
        "colab": {}
      },
      "source": [
        ""
      ],
      "execution_count": null,
      "outputs": []
    }
  ]
}