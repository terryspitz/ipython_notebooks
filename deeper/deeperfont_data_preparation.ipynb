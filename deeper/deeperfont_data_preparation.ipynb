{
  "nbformat": 4,
  "nbformat_minor": 0,
  "metadata": {
    "colab": {
      "name": "deeperfont data preparation.ipynb",
      "version": "0.3.2",
      "provenance": [],
      "collapsed_sections": [],
      "include_colab_link": true
    },
    "kernelspec": {
      "display_name": "Python 3",
      "language": "python",
      "name": "python3"
    }
  },
  "cells": [
    {
      "cell_type": "markdown",
      "metadata": {
        "id": "view-in-github",
        "colab_type": "text"
      },
      "source": [
        "[View in Colaboratory](https://colab.research.google.com/github/terryspitz/ipython_notebooks/blob/master/deeperfont_data_preparation.ipynb)"
      ]
    },
    {
      "metadata": {
        "id": "TzwyGOrLPOvD",
        "colab_type": "text"
      },
      "cell_type": "markdown",
      "source": [
        "Import TTF fonts and output training data: a series of point deltas (dx, dy) along with booleans for pen-up/pen-down and next-glyph."
      ]
    },
    {
      "metadata": {
        "id": "fJn7ol5SPOvG",
        "colab_type": "code",
        "colab": {
          "base_uri": "https://localhost:8080/",
          "height": 50
        },
        "outputId": "6e2bda2a-5786-40f1-987f-4bac042e5bb0"
      },
      "cell_type": "code",
      "source": [
        "#jupyter notebook    --NotebookApp.allow_origin='https://colab.research.google.com'    --port=8888\n",
        "from enum import Enum, IntEnum\n",
        "import math\n",
        "import os\n",
        "import glob\n",
        "import xml.etree.ElementTree as ET\n",
        "import numpy as np\n",
        "from PIL import Image, ImageDraw, ImageChops, ImageFont\n",
        "from IPython.display import display\n",
        "import tensorflow as tf\n",
        "print(np.__version__)\n",
        "print(tf.__version__)\n",
        "np.set_printoptions(precision=2)\n",
        "#tf.enable_eager_execution()\n"
      ],
      "execution_count": 281,
      "outputs": [
        {
          "output_type": "stream",
          "text": [
            "1.14.2\n",
            "1.10.0\n"
          ],
          "name": "stdout"
        }
      ]
    },
    {
      "metadata": {
        "id": "WQvWRJ_wPOvO",
        "colab_type": "code",
        "colab": {}
      },
      "cell_type": "code",
      "source": [
        "#Read Font outlines from local font files and write outlines to file for fitting\n",
        "from fontTools.ttLib import TTFont  #pip install fonttools\n",
        "\n",
        "def getCoordinates(font:TTFont, glyphName:str):\n",
        "    \"\"\"font, glyphName --> glyph coordinates as expected by \"gvar\" table\n",
        "    The result includes four \"phantom points\" for the glyph metrics,\n",
        "    as mandated by the \"gvar\" spec.\n",
        "    Function from https://github.com/fonttools/fonttools/blob/master/Snippets/interpolate.py\n",
        "    By inspection coords[0] are all points, and coords[1] are the end of the ranges for each contour (shape)\n",
        "    \"\"\"\n",
        "    glyphTable = font[\"glyf\"]\n",
        "    glyph = glyphTable.glyphs.get(glyphName)\n",
        "    if glyph is None:\n",
        "        return None\n",
        "    glyph.expand(glyphTable)\n",
        "    glyph.recalcBounds(glyphTable)\n",
        "    coords = glyph.getCoordinates(glyphTable)\n",
        "    start=0\n",
        "    contours = []\n",
        "    for end in coords[1]:\n",
        "        contours.append(coords[0][start:end+1])\n",
        "        start=end+1\n",
        "    return contours\n",
        "\n",
        "class Stroke(IntEnum):\n",
        "    \"\"\"\n",
        "    Enum defining data contents of last dimension\n",
        "    \"\"\"\n",
        "    DX = 0\n",
        "    DY = 1\n",
        "    PenDown = 2  # +1 draw stroke, 0 if this stroke is hidden, i.e. to move between contours in the glyph\n",
        "    EndOfGlyph = 3  # +1 indicates this stroke is the last of the current glyph, else 0\n",
        "    Size = 4  # size of this enum\n",
        "    \n",
        "def generateOutlines(fontfile:str, glyphs:str, max_outline_points:int):\n",
        "    \"\"\"\n",
        "    Read the actual points from all glyphs in the font into numpy array.\n",
        "    Output is array of glyphs x points x 2 (angle in radians, distance).\n",
        "    We use float not the original ints from the font - according to https://github.com/fchollet/keras/issues/2218.\n",
        "    \"\"\"\n",
        "    font = TTFont(fontfile)\n",
        "    unitsPerEm = font['head'].unitsPerEm *0.7\n",
        "    outlines = np.zeros((max_outline_points, Stroke.Size), np.float32)\n",
        "    j = 0\n",
        "    for i, letter in enumerate(glyphs):\n",
        "        contours = getCoordinates(font, letter)\n",
        "        startp = (0,0)\n",
        "        #ttx contours are areas within the glyph, like the outside and inside outlines of an O\n",
        "        for xy in contours:\n",
        "            #fill output matrix, start with hidden line to start position\n",
        "            outlines[j,Stroke.DX] = (xy[0][0]-startp[0])/ unitsPerEm\n",
        "            outlines[j,Stroke.DY] = (xy[0][1]-startp[1])/ unitsPerEm\n",
        "            outlines[j,Stroke.PenDown] = 0\n",
        "            j = j+1\n",
        "            if j>=max_outline_points: break\n",
        "            startp = xy[0]\n",
        "            #then between points\n",
        "            for n in range(len(xy)-1):\n",
        "                outlines[j,Stroke.DX] = (xy[n+1][0]-xy[n][0])/ unitsPerEm\n",
        "                outlines[j,Stroke.DY] = (xy[n+1][1]-xy[n][1])/ unitsPerEm\n",
        "                outlines[j,Stroke.PenDown] = 1\n",
        "                j = j+1\n",
        "                if j>=max_outline_points: break\n",
        "            #finally wrap last point to first in contour\n",
        "            outlines[j,Stroke.DX] = (xy[0][0]-xy[-1][0])/ unitsPerEm\n",
        "            outlines[j,Stroke.DY] = (xy[0][1]-xy[-1][1])/ unitsPerEm\n",
        "            outlines[j,Stroke.PenDown] = 1\n",
        "            j = j+1\n",
        "            if j>=max_outline_points: break\n",
        "        outlines[j-1,Stroke.EndOfGlyph] = 1  # otherwise leave as 0\n",
        "    print(\"Font %s has %d points\" % (fontfile, j))\n",
        "    return outlines\n",
        "  \n",
        "def readFonts(files: [str], glyphs: str, max_outline_points:int):\n",
        "    print('loading {} files'.format(len(files)))\n",
        "    outlines = []\n",
        "    for i, fontfile in enumerate(files):\n",
        "        outlines.append(generateOutlines(fontfile, glyphs, max_outline_points))\n",
        "    return np.stack(outlines)\n"
      ],
      "execution_count": 0,
      "outputs": []
    },
    {
      "metadata": {
        "id": "WRrFMeZZPOvR",
        "colab_type": "code",
        "colab": {}
      },
      "cell_type": "code",
      "source": [
        "def drawOutlines(outlines, cellsize, glyphCount):\n",
        "  \"\"\"Draw outline tensor.\"\"\"\n",
        "  im = Image.new('1', size=(glyphCount*cellsize, outlines.shape[0]*cellsize), color=(0))\n",
        "  def drawPoints(im, points):\n",
        "    if len(points)<=2:\n",
        "      return im\n",
        "    #temporary image to use to xor each part with main image\n",
        "    im2 = Image.new('1', size=(glyphCount*cellsize, outlines.shape[0]*cellsize), color=(0)) \n",
        "    draw = ImageDraw.Draw(im2).polygon(points, fill=1)\n",
        "    return ImageChops.logical_xor(im, im2)\n",
        "  scale = cellsize * 0.9\n",
        "  for font in range(outlines.shape[0]):\n",
        "    i = 0\n",
        "    for glyphNum in range(glyphCount):\n",
        "      points = []\n",
        "      x,y = (glyphNum * cellsize, (font+1) * cellsize)\n",
        "      #ImageDraw.Draw(im).line((glyphNum * cellsize, font * cellsize, glyphNum * cellsize, (font+1) * cellsize), fill=1)\n",
        "      #ImageDraw.Draw(im).line((glyphNum * cellsize, font * cellsize, (glyphNum+1) * cellsize, font * cellsize), fill=1)\n",
        "      while True:\n",
        "        x += outlines[font,i,Stroke.DX]*scale\n",
        "        y -= outlines[font,i,Stroke.DY]*scale\n",
        "        #print(outlines[font,i], x,y)\n",
        "        if outlines[font,i,Stroke.PenDown]>0.5:\n",
        "          points += (x,y)\n",
        "        else:\n",
        "          im = drawPoints(im, points)\n",
        "          points=[(x,y)]\n",
        "        i+=1\n",
        "        if outlines[font,i-1,Stroke.EndOfGlyph]>0.5 or i>=outlines.shape[1]:\n",
        "          break\n",
        "      im = drawPoints(im, points)\n",
        "  return im\n"
      ],
      "execution_count": 0,
      "outputs": []
    },
    {
      "metadata": {
        "id": "Na0-3m6APOvM",
        "colab_type": "code",
        "colab": {}
      },
      "cell_type": "code",
      "source": [
        "def outlinesToScanlines(outlines, max_points_per_scanline, ygrid, glyphCount):\n",
        "    '''\n",
        "    Pure tensorflow function\n",
        "    Input: 2D tensor of max_outline_points * Stroke (DX,DY,PenDown,EndOfGlyph)\n",
        "    Output: glyphCount * y coord * sorted x coords for each scanline\n",
        "    '''\n",
        "    glyphNums = tf.cast(outlines[:-1,Stroke.EndOfGlyph]>0.5, tf.int32)\n",
        "    glyphNums = tf.cumsum(glyphNums, axis=-1)\n",
        "    glyphNums = tf.concat((tf.zeros([1], dtype=tf.int32), glyphNums), axis=0)\n",
        "    glyphNums2D = tf.expand_dims(tf.range(glyphCount),-1)\n",
        "    glyphNums2D = tf.tile(glyphNums2D, [1,glyphNums.shape[0]])\n",
        "    glyphNums2D = tf.math.equal(glyphNums2D, glyphNums)\n",
        "    glyphNums2D = tf.cast(glyphNums2D, tf.float32)\n",
        "    xs = tf.cumsum(outlines[:,Stroke.DX] * glyphNums2D, axis=1)+1e-2\n",
        "    ys = tf.cumsum(outlines[:,Stroke.DY] * glyphNums2D, axis=1)+1e-2\n",
        "    #offset to create line start x1,y1 to end x2,y2\n",
        "    #add 3rd dimension (size=1) so following interpolation in y is broadcast across all lines\n",
        "    x1s = tf.expand_dims(xs[:,:-1], -1)\n",
        "    x2s = tf.expand_dims(xs[:,1:], -1)\n",
        "    y1s = tf.expand_dims(ys[:,:-1], -1)\n",
        "    y2s = tf.expand_dims(ys[:,1:], -1)\n",
        "    #linear interpolate the x coords for all lines at all y coord\n",
        "    xxs = x1s + (x2s-x1s)*(ygrid-y1s)/(y2s-y1s)\n",
        "    #zero x coords outside of line y bounds or where dy=0 and for hidden lines\n",
        "    in_range = tf.logical_or(tf.logical_and(y1s<ygrid, ygrid<=y2s), tf.logical_and(y2s<ygrid, ygrid<=y1s))\n",
        "    in_range = tf.logical_and(in_range, y2s!=y1s)\n",
        "    visible = outlines[1:,Stroke.PenDown]>0.5\n",
        "    in_range = tf.logical_and(in_range, tf.expand_dims(visible,-1))\n",
        "    xxs = tf.where(in_range, xxs, tf.zeros_like(xxs)) \n",
        "    return tf.nn.top_k(tf.transpose(xxs, perm=(0,2,1)), max_points_per_scanline).values\n",
        "  \n",
        "def drawScanLines(xxs, ygrid, cellsize):\n",
        "    '''Draw a glyph rasterisation based on a input y coord array with array of x-intercepts of lines with the y coord'''\n",
        "    columns = math.ceil(1000/cellsize)\n",
        "    rows = 1 #math.ceil(xxs.shape[0]/columns)\n",
        "    scale = cellsize * 0.9\n",
        "    im = Image.new('1', size=(columns*cellsize, rows*cellsize), color=(0)) \n",
        "    draw = ImageDraw.Draw(im) \n",
        "    for i in range(xxs.shape[0]):\n",
        "      yy,xx = divmod(i, columns)\n",
        "      xx *= cellsize\n",
        "      yy = (yy+1)*cellsize-1\n",
        "      for xs, y in zip(xxs[i], ygrid):\n",
        "        for j in range(0, xs.shape[0], 2):\n",
        "          if(xs[j]>1e-5):\n",
        "            if(xs[j+1]>1e-5):\n",
        "              draw.line((xx+xs[j]*scale, yy-y*scale, xx+xs[j+1]*scale, yy-y*scale), fill=1)\n",
        "            else:\n",
        "              draw.ellipse((xx+xs[j]*scale-1, yy-y*scale-1, xx+xs[j]*scale+1, yy-y*scale+1), fill=1)\n",
        "    return im  "
      ],
      "execution_count": 0,
      "outputs": []
    },
    {
      "metadata": {
        "id": "P5RLGsPlPOvV",
        "colab_type": "code",
        "colab": {
          "base_uri": "https://localhost:8080/",
          "height": 621
        },
        "outputId": "1d354e67-cf0d-491e-d3b5-e50d43ad34fb"
      },
      "cell_type": "code",
      "source": [
        "print('setup...')\n",
        "glyphs = [chr(i) for i in range(ord('A'), ord('Z')+1)]\n",
        "glyphs += [chr(i) for i in range(ord('a'), ord('z')+1)]\n",
        "glyphs += ['zero','one','two','three','four','five','six','seven','eight','nine']\n",
        "#glyphs = ['A','B','a','b','one','two']\n",
        "#glyphs = ['one','two','one','two']\n",
        "glyphs = ['A'] + glyphs\n",
        "max_points_per_scanline = 10 # required for g, m\n",
        "max_outline_points = 5000\n",
        "ygrid = np.linspace(0.0, 1.0, 30, endpoint=False) #y coordinates to render on\n",
        "files = glob.glob('deeper/fonts/Courier*.ttf')\n",
        "#files = glob.glob('deeper/fonts/Courier Prime.ttf')\n",
        "outlines = readFonts(files, glyphs, max_outline_points)\n",
        "#print(tf.cast(100*outlines[0,0:200],tf.int32))\n",
        "#print(tf.cast(100*tf.cumsum(outlines[0,0:200]),tf.int32))\n",
        "testoutlines = tf.constant([[[0.2,0.2,0,0],[0.6,0,1,0],[0,0.6,1,0],[-0.6,0,1,0],[0,-0.6,1,1]]], dtype=tf.float32)\n",
        "testoutlines = tf.tile(outlines, (1, 10, 1))\n",
        "testglyphs = ['A'] * 10\n",
        "print(\"outline shape (fonts, max_points_per_scanline, Stroke.Size): \", outlines.shape)\n",
        "display(drawOutlines(outlines, cellsize, len(glyphs)))\n",
        "\n",
        "#test the TF scanline algorithm\n",
        "for i in range(outlines.shape[0]):\n",
        "  scanlines = outlinesToScanlines(outlines[i], max_points_per_scanline, ygrid, len(glyphs))\n",
        "  print(\"scanlines shape: \", scanlines.shape)\n",
        "  display(drawScanLines(scanlines, ygrid, cellsize))"
      ],
      "execution_count": 331,
      "outputs": [
        {
          "output_type": "stream",
          "text": [
            "setup...\n",
            "loading 4 files\n",
            "Font deeper/fonts\\Courier Prime Bold Italic.ttf has 4260 points\n",
            "Font deeper/fonts\\Courier Prime Bold.ttf has 4162 points\n",
            "Font deeper/fonts\\Courier Prime Italic.ttf has 3599 points\n",
            "Font deeper/fonts\\Courier Prime.ttf has 3551 points\n",
            "outline shape (fonts, max_points_per_scanline, Stroke.Size):  (4, 5000, 4)\n"
          ],
          "name": "stdout"
        },
        {
          "output_type": "display_data",
          "data": {
            "text/plain": [
              "<PIL.Image.Image image mode=1 size=3150x200 at 0x186FF948978>"
            ],
            "image/png": "[encoded data removed]"
          },
          "metadata": {
            "tags": []
          }
        },
        {
          "output_type": "stream",
          "text": [
            "scanlines shape:  (63, 30, 10)\n"
          ],
          "name": "stdout"
        },
        {
          "output_type": "display_data",
          "data": {
            "text/plain": [
              "<PIL.Image.Image image mode=1 size=1000x50 at 0x18683C82C88>"
            ],
            "image/png": "[encoded data removed]"
          },
          "metadata": {
            "tags": []
          }
        },
        {
          "output_type": "stream",
          "text": [
            "scanlines shape:  (63, 30, 10)\n"
          ],
          "name": "stdout"
        },
        {
          "output_type": "display_data",
          "data": {
            "text/plain": [
              "<PIL.Image.Image image mode=1 size=1000x50 at 0x18683C82C88>"
            ],
            "image/png": "[encoded data removed]"
          },
          "metadata": {
            "tags": []
          }
        },
        {
          "output_type": "stream",
          "text": [
            "scanlines shape:  (63, 30, 10)\n"
          ],
          "name": "stdout"
        },
        {
          "output_type": "display_data",
          "data": {
            "text/plain": [
              "<PIL.Image.Image image mode=1 size=1000x50 at 0x18683C82C88>"
            ],
            "image/png": "[encoded data removed]"
          },
          "metadata": {
            "tags": []
          }
        },
        {
          "output_type": "stream",
          "text": [
            "scanlines shape:  (63, 30, 10)\n"
          ],
          "name": "stdout"
        },
        {
          "output_type": "display_data",
          "data": {
            "text/plain": [
              "<PIL.Image.Image image mode=1 size=1000x50 at 0x18683C82C88>"
            ],
            "image/png": "[encoded data removed]"
          },
          "metadata": {
            "tags": []
          }
        }
      ]
    },
    {
      "metadata": {
        "id": "li5pk9IDVmQA",
        "colab_type": "code",
        "colab": {}
      },
      "cell_type": "code",
      "source": [
        ""
      ],
      "execution_count": 0,
      "outputs": []
    }
  ]
}