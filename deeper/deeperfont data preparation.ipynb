{
  "nbformat": 4,
  "nbformat_minor": 0,
  "metadata": {
    "colab": {
      "name": "deeperfont data preparation.ipynb",
      "version": "0.3.2",
      "provenance": []
    },
    "kernelspec": {
      "display_name": "Python 3",
      "language": "python",
      "name": "python3"
    }
  },
  "cells": [
    {
      "metadata": {
        "id": "TzwyGOrLPOvD",
        "colab_type": "text"
      },
      "cell_type": "markdown",
      "source": [
        "Import TTF fonts and output training data: a series of point deltas (dx, dy) along with booleans for pen-up/pen-down and next-glyph."
      ]
    },
    {
      "metadata": {
        "id": "fJn7ol5SPOvG",
        "colab_type": "code",
        "colab": {
          "base_uri": "https://localhost:8080/",
          "height": 52
        },
        "outputId": "eae8288d-472b-4b97-bf70-826c0bde8ea8"
      },
      "cell_type": "code",
      "source": [
        "from enum import Enum, IntEnum\n",
        "import math\n",
        "import os\n",
        "import glob\n",
        "import xml.etree.ElementTree as ET\n",
        "import numpy as np\n",
        "from PIL import Image, ImageDraw, ImageChops, ImageFont\n",
        "from IPython.display import display\n",
        "import tensorflow as tf\n",
        "print(np.__version__)\n",
        "print(tf.__version__)\n",
        "np.set_printoptions(precision=2)"
      ],
      "execution_count": 20,
      "outputs": [
        {
          "output_type": "stream",
          "text": [
            "1.14.2\n",
            "1.10.0\n"
          ],
          "name": "stdout"
        }
      ]
    },
    {
      "metadata": {
        "id": "Na0-3m6APOvM",
        "colab_type": "code",
        "colab": {}
      },
      "cell_type": "code",
      "source": [
        "def renderGlyphs(gls, max_points_per_scanline, ygrid):\n",
        "    '''\n",
        "    Pure tensorflow function\n",
        "    Input: 2D tensor of glyph * outlines (dx,dy)\n",
        "    Output: glyph * matrix of sorted x coords for each line per y coording\n",
        "    '''\n",
        "    dxs = gls[:,::2]\n",
        "    dys = gls[:,1::2]\n",
        "    xs = tf.cumsum(dxs, axis=-1)+1e-2\n",
        "    ys = tf.cumsum(dys, axis=-1)+1e-2\n",
        "    visible = tf.logical_or(xs[:,1:]>0,ys[:,1:]>0)\n",
        "    #offset to create line start x1,y1 to end x2,y2\n",
        "    x1s = xs[:,:-1]\n",
        "    x2s = xs[:,1:]\n",
        "    y1s = ys[:,:-1]\n",
        "    y2s = ys[:,1:]\n",
        "    #add 3rd dimension (size=1) so following interpolation in y is broadcast across all lines\n",
        "    xx1s=tf.expand_dims(x1s,-1)\n",
        "    xx2s=tf.expand_dims(x2s,-1)\n",
        "    yy1s=tf.expand_dims(y1s,-1)\n",
        "    yy2s=tf.expand_dims(y2s,-1)\n",
        "    #interpolate the x coords for all lines at all y coord\n",
        "    xxs = xx1s + (xx2s-xx1s)*(ygrid-yy1s)/(yy2s-yy1s)\n",
        "    #zero x coords outside of line y bounds or where dy=0 and for hidden lines\n",
        "    in_range = tf.logical_or(tf.logical_and(yy1s<ygrid, ygrid<=yy2s), tf.logical_and(yy2s<ygrid, ygrid<=yy1s))\n",
        "    in_range = tf.logical_and(in_range, yy2s!=yy1s)\n",
        "    in_range = tf.logical_and(in_range, tf.expand_dims(visible,-1))\n",
        "    xxs = tf.where(in_range, xxs, tf.zeros_like(xxs)) \n",
        "    return tf.nn.top_k(tf.transpose(xxs, perm=(0,2,1)),max_points_per_scanline).values"
      ],
      "execution_count": 0,
      "outputs": []
    },
    {
      "metadata": {
        "id": "WQvWRJ_wPOvO",
        "colab_type": "code",
        "colab": {}
      },
      "cell_type": "code",
      "source": [
        "#Read Font outlines from local font files and write outlines to file for fitting\n",
        "from fontTools.ttLib import TTFont  #pip install fonttools\n",
        "\n",
        "def GetCoordinates(font, glyphName):\n",
        "    \"\"\"font, glyphName --> glyph coordinates as expected by \"gvar\" table\n",
        "    The result includes four \"phantom points\" for the glyph metrics,\n",
        "    as mandated by the \"gvar\" spec.\n",
        "    Function from https://github.com/fonttools/fonttools/blob/master/Snippets/interpolate.py\n",
        "    By inspection coords[0] are all points, and coords[1] are the end of the ranges for each contour (shape)\n",
        "    \"\"\"\n",
        "    glyphTable = font[\"glyf\"]\n",
        "    glyph = glyphTable.glyphs.get(glyphName)\n",
        "    if glyph is None:\n",
        "        return None\n",
        "    glyph.expand(glyphTable)\n",
        "    glyph.recalcBounds(glyphTable)\n",
        "    coords = glyph.getCoordinates(glyphTable)\n",
        "    start=0\n",
        "    contours = []\n",
        "    for end in coords[1]:\n",
        "        contours.append(coords[0][start:end+1])\n",
        "        start=end+1\n",
        "    return contours\n",
        "\n",
        "def readFonts(files, glyphs, max_outline_points, y_divisions):\n",
        "    glyphinputs = np.identity(len(glyphs), dtype=float)  #input is one-hot vec, one per glyph\n",
        "    print('loading {} files'.format(len(files)))\n",
        "    inputs = []\n",
        "    outlines = []\n",
        "    for i, fontfile in enumerate(files):\n",
        "        print('loading {}'.format(fontfile))\n",
        "        fontvec = np.zeros(len(files))\n",
        "        fontvec[i]=1\n",
        "        inputs.append(np.concatenate((glyphinputs, np.broadcast_to(fontvec, (glyphinputs.shape[0],fontvec.shape[0]))), axis=1))\n",
        "        outlines.append(generateOutlines(fontfile, glyphs, max_outline_points, y_divisions))\n",
        "    return np.concatenate(inputs), np.concatenate(outlines)\n",
        "\n",
        "class InputVector(IntEnum):\n",
        "    \"\"\"\n",
        "    Enum defining data contents of last dimension\n",
        "    \"\"\"\n",
        "    DX = 0\n",
        "    DY = 1\n",
        "    PenDown = 2  # +1 draw stroke, 0 if this stroke is hidden, i.e. to move between contours in the glyph\n",
        "    EndOfGlyph = 3  # +1 indicates this stroke is the last of the current glyph, else 0\n",
        "    Size = 4  # size of this enum\n",
        "    \n",
        "def generateOutlines(fontfile, glyphs, max_outline_points, y_divisions):\n",
        "    \"\"\"\n",
        "    Read the actual points from all glyphs in the font into numpy array.\n",
        "    Output is array of glyphs x points x 2 (angle in radians, distance).\n",
        "    We use float not the original ints from the font - according to https://github.com/fchollet/keras/issues/2218.\n",
        "    \"\"\"\n",
        "    font = TTFont(fontfile)\n",
        "    unitsPerEm = font['head'].unitsPerEm * 0.9\n",
        "    numglyphs = len(glyphs)\n",
        "    outlines = np.zeros((numglyphs, max_outline_points, InputVector.Size), np.float32)\n",
        "    for i, letter in enumerate(glyphs):\n",
        "        contours = GetCoordinates(font, letter)\n",
        "        j = 0\n",
        "        startp = (0,0.1)\n",
        "        #ttx contours are areas within the glyph, like the outside and inside outlines of an O\n",
        "        for xy in contours:\n",
        "            #fill output matrix, start with hidden line to start position\n",
        "            outlines[i,j,InputVector.DX] = (xy[0][0]-startp[0])/ unitsPerEm\n",
        "            outlines[i,j,InputVector.DY] = (xy[0][1]-startp[1])/ unitsPerEm\n",
        "            outlines[i,j,InputVector.PenDown] = 0\n",
        "            j = j+1\n",
        "            if j>=max_outline_points: break\n",
        "            startp = xy[0]\n",
        "            #then between points\n",
        "            for n in range(len(xy)-1):\n",
        "                outlines[i,j,InputVector.DX] = (xy[n+1][0]-xy[n][0])/ unitsPerEm\n",
        "                outlines[i,j,InputVector.DY] = (xy[n+1][1]-xy[n][1])/ unitsPerEm\n",
        "                outlines[i,j,InputVector.PenDown] = 1\n",
        "                j = j+1\n",
        "                if j>=max_outline_points: break\n",
        "            if j>=max_outline_points: break\n",
        "            #finally wrap last point to first in contour\n",
        "            N=len(xy)-1\n",
        "            outlines[i,j,InputVector.DX] = (xy[0][0]-xy[N][0])/ unitsPerEm\n",
        "            outlines[i,j,InputVector.DY] = (xy[0][1]-xy[N][1])/ unitsPerEm\n",
        "            outlines[i,j,InputVector.PenDown] = 1\n",
        "            j = j+1\n",
        "            if j>=max_outline_points: break\n",
        "        outlines[i,:j,InputVector.EndOfGlyph] = 1\n",
        "    return outlines"
      ],
      "execution_count": 0,
      "outputs": []
    },
    {
      "metadata": {
        "id": "WRrFMeZZPOvR",
        "colab_type": "code",
        "colab": {}
      },
      "cell_type": "code",
      "source": [
        "def drawOutlines(outlines, cellsize):\n",
        "    \"\"\"Draw numpy array interpreted as a glyph per row and each row containing x,y or angle,dist pairs.\"\"\"\n",
        "    columns = math.ceil(800/cellsize)\n",
        "    rows = math.ceil(outlines.shape[0]/columns)\n",
        "    def drawPoints(im, points, cellx, celly):\n",
        "        #temporary image to use to xor each part with main image\n",
        "        im2 = Image.new('1', size=(columns*cellsize, rows*cellsize), color=(0)) \n",
        "        draw = ImageDraw.Draw(im2) \n",
        "        draw.polygon(points, fill=1)\n",
        "        im = ImageChops.logical_xor(im, im2)\n",
        "        return im\n",
        "    scale = cellsize * 0.9\n",
        "    im = Image.new('1', size=(columns*cellsize, rows*cellsize), color=(0)) \n",
        "    for i in range(outlines.shape[0]):\n",
        "        celly,cellx = divmod(i, columns)\n",
        "        cellx *= cellsize\n",
        "        celly *= cellsize\n",
        "        points = []\n",
        "        x,y=(0,cellsize-1)\n",
        "        for j in range(outlines.shape[1]):\n",
        "            if outlines[i][j][InputVector.EndOfGlyph]<0.5: \n",
        "                break;\n",
        "            x += outlines[i][j][InputVector.DX]*scale\n",
        "            y -= outlines[i][j][InputVector.DY]*scale\n",
        "            if outlines[i][j][InputVector.PenDown]>0.5:\n",
        "                points += (cellx+x,celly+y)\n",
        "            elif len(points)>2:\n",
        "                im = drawPoints(im, points, cellx, celly)\n",
        "                points=[]\n",
        "        if len(points)>2:\n",
        "            im = drawPoints(im, points, cellx, celly)\n",
        "    return im\n",
        "\n",
        "def drawXYs(xxs, ygrid, cellsize):\n",
        "    '''Draw a glyph rasterisation based on a input y coord array with array of x-intercepts of lines with the y coord'''\n",
        "    columns = math.ceil(800/cellsize)\n",
        "    rows = math.ceil(xxs.shape[0]/columns)\n",
        "    scale = cellsize * 0.9\n",
        "    im = Image.new('1', size=(columns*cellsize, rows*cellsize), color=(0)) \n",
        "    draw = ImageDraw.Draw(im) \n",
        "    for i in range(xxs.shape[0]):\n",
        "        yy,xx = divmod(i, columns)\n",
        "        xx *= cellsize\n",
        "        yy = (yy+1)*cellsize-1\n",
        "        for xs, y in zip(xxs[i], ygrid):\n",
        "            for x in xs:\n",
        "                if x>0.0:\n",
        "                    draw.ellipse((xx+x*scale, yy-y*scale, xx+x*scale+3, yy-y*scale+3), fill=1)\n",
        "    return im"
      ],
      "execution_count": 0,
      "outputs": []
    },
    {
      "metadata": {
        "id": "P5RLGsPlPOvV",
        "colab_type": "code",
        "colab": {
          "base_uri": "https://localhost:8080/",
          "height": 975
        },
        "outputId": "ed60d250-5472-4ebd-aa94-f5ff034ae453"
      },
      "cell_type": "code",
      "source": [
        "print('setup...')\n",
        "glyphs = [chr(i) for i in range(ord('A'), ord('Z')+1)]\n",
        "glyphs += [chr(i) for i in range(ord('a'), ord('z')+1)]\n",
        "glyphs += ['zero','one','two','three','four','five','six','seven','eight','nine']\n",
        "#glyphs = ['A','B','a','b','one','two']\n",
        "#glyphs = ['A']\n",
        "max_points_per_scanline = 10 # required for g, m\n",
        "max_outline_points = 110\n",
        "y_divisions = 30\n",
        "ygrid = np.linspace(0.0, 1.0, y_divisions, endpoint=False) #y coordinates to render on\n",
        "files = glob.glob('deeper/fonts/Courier*.ttf')\n",
        "inputs, outlines = readFonts(files, glyphs, max_outline_points, y_divisions)\n",
        "batch_size = outlines.shape[0]\n",
        "print(outlines[0,0])\n",
        "#inputs = np.identity(len(glyphs), dtype=float)  #input is one-hot vec, one per glyph\n",
        "#outlines = generateOutlines('deeper/Courier Prime.ttf', glyphs, max_outline_points, ygrid)\n",
        "print(\"input shape (glyphs, characters+fonts): \", inputs.shape)\n",
        "print(\"outline shape (glyphs, max_points_per_scanline, InputVector): \", outlines.shape)\n",
        "#with tf.Session() as sess:\n",
        "#    xcoords = renderGlyphs(outlines, max_points_per_scanline, ygrid).eval()\n",
        "    #print(xcoords)\n",
        "#    print(\"output shape: \", xcoords.shape)\n",
        "cellsize = 50\n",
        "drawOutlines(outlines, cellsize)\n",
        "#display(drawOutlines(outlines, cellsize), drawXYs(xcoords, ygrid, cellsize))"
      ],
      "execution_count": 24,
      "outputs": [
        {
          "output_type": "stream",
          "text": [
            "setup...\n",
            "loading 4 files\n",
            "loading deeper/fonts\\Courier Prime Bold Italic.ttf\n",
            "loading deeper/fonts\\Courier Prime Bold.ttf\n",
            "loading deeper/fonts\\Courier Prime Italic.ttf\n",
            "loading deeper/fonts\\Courier Prime.ttf\n",
            "[0.27 0.53 0.   1.  ]\n",
            "input shape (glyphs, characters+fonts):  (248, 66)\n",
            "outline shape (glyphs, max_points_per_scanline, InputVector):  (248, 110, 4)\n"
          ],
          "name": "stdout"
        },
        {
          "output_type": "execute_result",
          "data": {
            "text/plain": [
              "<PIL.Image.Image image mode=1 size=800x800 at 0x224CC1EE320>"
            ],
            "image/png": "[encoded data removed]"
          },
          "metadata": {
            "tags": []
          },
          "execution_count": 24
        }
      ]
    },
    {
      "metadata": {
        "id": "li5pk9IDVmQA",
        "colab_type": "code",
        "colab": {}
      },
      "cell_type": "code",
      "source": [
        ""
      ],
      "execution_count": 0,
      "outputs": []
    }
  ]
}