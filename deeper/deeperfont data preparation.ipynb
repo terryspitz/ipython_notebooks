{
  "nbformat": 4,
  "nbformat_minor": 0,
  "metadata": {
    "colab": {
      "name": "deeperfont data preparation.ipynb",
      "version": "0.3.2",
      "provenance": [],
      "include_colab_link": true
    },
    "kernelspec": {
      "display_name": "Python 3",
      "language": "python",
      "name": "python3"
    }
  },
  "cells": [
    {
      "cell_type": "markdown",
      "metadata": {
        "id": "view-in-github",
        "colab_type": "text"
      },
      "source": [
        "[View in Colaboratory](https://colab.research.google.com/github/terryspitz/ipython_notebooks/blob/master/deeper/deeperfont%20data%20preparation.ipynb)"
      ]
    },
    {
      "metadata": {
        "id": "TzwyGOrLPOvD",
        "colab_type": "text"
      },
      "cell_type": "markdown",
      "source": [
        "Import TTF fonts and output training data: a series of point deltas (dx, dy) along with booleans for pen-up/pen-down and next-glyph."
      ]
    },
    {
      "metadata": {
        "id": "fJn7ol5SPOvG",
        "colab_type": "code",
        "colab": {
          "base_uri": "https://localhost:8080/",
          "height": 107
        },
        "outputId": "b28d8417-435d-4ce5-d226-0dbca92199d0"
      },
      "cell_type": "code",
      "source": [
        "from enum import Enum, IntEnum\n",
        "import math\n",
        "import os\n",
        "import glob\n",
        "import xml.etree.ElementTree as ET\n",
        "import numpy as np\n",
        "from PIL import Image, ImageDraw, ImageChops, ImageFont\n",
        "from IPython.display import display\n",
        "import tensorflow as tf\n",
        "print(np.__version__)\n",
        "print(tf.__version__)\n",
        "np.set_printoptions(precision=2)"
      ],
      "execution_count": 1,
      "outputs": [
        {
          "output_type": "stream",
          "text": [
            "C:\\Users\\terry\\Anaconda3\\lib\\site-packages\\h5py\\__init__.py:34: FutureWarning: Conversion of the second argument of issubdtype from `float` to `np.floating` is deprecated. In future, it will be treated as `np.float64 == np.dtype(float).type`.\n",
            "  from ._conv import register_converters as _register_converters\n"
          ],
          "name": "stderr"
        },
        {
          "output_type": "stream",
          "text": [
            "1.14.2\n",
            "1.10.0\n"
          ],
          "name": "stdout"
        }
      ]
    },
    {
      "metadata": {
        "id": "Na0-3m6APOvM",
        "colab_type": "code",
        "colab": {}
      },
      "cell_type": "code",
      "source": [
        "def renderGlyphs(gls, max_points_per_line, ygrid, scheme):\n",
        "    '''\n",
        "    Pure tensorflow function\n",
        "    Input: 2D tensor of glyph * outlines (either x,y or angle, distance pairs)\n",
        "    Output: glyph * matrix of sorted x coords for each line per y coording\n",
        "    '''\n",
        "    if scheme == Scheme.XY:\n",
        "        xs = gls[:,::2]\n",
        "        ys = gls[:,1::2]\n",
        "        visible = tf.logical_or(xs[:,1:]>0,ys[:,1:]>0)\n",
        "    elif scheme == Scheme.DXDY:\n",
        "        dxs = gls[:,::2]\n",
        "        dys = gls[:,1::2]\n",
        "        xs = tf.cumsum(dxs, axis=-1)+1e-2\n",
        "        ys = tf.cumsum(dys, axis=-1)+1e-2\n",
        "        visible = tf.logical_or(xs[:,1:]>0,ys[:,1:]>0)\n",
        "    elif scheme == Scheme.ANGDIST:\n",
        "        angles = gls[:,::2]\n",
        "        dists = gls[:,1::2]\n",
        "        visible = dists[:,1:]>0\n",
        "        #turn angles,dists into coordinates\n",
        "        xs = tf.cumsum(tf.abs(dists)*tf.cos(angles*math.pi), axis=-1)+1e-2\n",
        "        ys = tf.cumsum(tf.abs(dists)*tf.sin(angles*math.pi), axis=-1)+1e-2\n",
        "    #offset to create line start x1,y1 to end x2,y2\n",
        "    x1s = xs[:,:-1]\n",
        "    x2s = xs[:,1:]\n",
        "    y1s = ys[:,:-1]\n",
        "    y2s = ys[:,1:]\n",
        "    #add 3rd dimension (size=1) so following interpolation in y is broadcast across all lines\n",
        "    xx1s=tf.expand_dims(x1s,-1)\n",
        "    xx2s=tf.expand_dims(x2s,-1)\n",
        "    yy1s=tf.expand_dims(y1s,-1)\n",
        "    yy2s=tf.expand_dims(y2s,-1)\n",
        "    #interpolate the x coords for all lines at all y coord\n",
        "    xxs = xx1s + (xx2s-xx1s)*(ygrid-yy1s)/(yy2s-yy1s)\n",
        "    #zero x coords outside of line y bounds or where dy=0 and for hidden lines\n",
        "    in_range = tf.logical_or(tf.logical_and(yy1s<ygrid, ygrid<=yy2s), tf.logical_and(yy2s<ygrid, ygrid<=yy1s))\n",
        "    in_range = tf.logical_and(in_range, yy2s!=yy1s)\n",
        "    in_range = tf.logical_and(in_range, tf.expand_dims(visible,-1))\n",
        "    xxs = tf.where(in_range, xxs, tf.zeros_like(xxs)) \n",
        "    return tf.nn.top_k(tf.transpose(xxs, perm=(0,2,1)),max_points_per_line).values"
      ],
      "execution_count": 0,
      "outputs": []
    },
    {
      "metadata": {
        "id": "WQvWRJ_wPOvO",
        "colab_type": "code",
        "colab": {}
      },
      "cell_type": "code",
      "source": [
        "#Read Font outlines from local font files and write outlines to file for fitting\n",
        "from fontTools.ttLib import TTFont  #pip install fonttools\n",
        "\n",
        "def GetCoordinates(font, glyphName):\n",
        "    \"\"\"font, glyphName --> glyph coordinates as expected by \"gvar\" table\n",
        "    The result includes four \"phantom points\" for the glyph metrics,\n",
        "    as mandated by the \"gvar\" spec.\n",
        "    Function from https://github.com/fonttools/fonttools/blob/master/Snippets/interpolate.py\n",
        "    By inspection coords[0] are all points, and coords[1] are the end of the ranges for each contour (shape)\n",
        "    \"\"\"\n",
        "    glyphTable = font[\"glyf\"]\n",
        "    glyph = glyphTable.glyphs.get(glyphName)\n",
        "    if glyph is None:\n",
        "        return None\n",
        "    glyph.expand(glyphTable)\n",
        "    glyph.recalcBounds(glyphTable)\n",
        "    coords = glyph.getCoordinates(glyphTable)\n",
        "    start=0\n",
        "    contours = []\n",
        "    for end in coords[1]:\n",
        "        contours.append(coords[0][start:end+1])\n",
        "        start=end+1\n",
        "    return contours\n",
        "\n",
        "def readFonts(files, glyphs, max_outline_points, y_divisions):\n",
        "    glyphinputs = np.identity(len(glyphs), dtype=float)  #input is one-hot vec, one per glyph\n",
        "    print('loading {} files'.format(len(files)))\n",
        "    inputs = []\n",
        "    outlines = []\n",
        "    for i, fontfile in enumerate(files):\n",
        "        print('loading {}'.format(fontfile))\n",
        "        fontvec = np.zeros(len(files))\n",
        "        fontvec[i]=1\n",
        "        inputs.append(np.concatenate((glyphinputs, np.broadcast_to(fontvec, (glyphinputs.shape[0],fontvec.shape[0]))), axis=1))\n",
        "        outlines.append(generateOutlines(fontfile, glyphs, max_outline_points, y_divisions))\n",
        "    return np.concatenate(inputs), np.concatenate(outlines)\n",
        "\n",
        "class LastDim(IntEnum):\n",
        "    \"\"\"\n",
        "    Enum defining data contents of last dimension\n",
        "    \"\"\"\n",
        "    Show = 0  # +1 draw, -1 if this line is hidden, i.e. between contours in the glyph\n",
        "    Active = 1  # >0 for drawing no further points in outline\n",
        "    Size = 2  # size of this enum\n",
        "    \n",
        "def generateOutlines(fontfile, glyphs, max_outline_points, y_divisions):\n",
        "    \"\"\"\n",
        "    Read the actual points from all glyphs in the font into numpy array.\n",
        "    Output is array of glyphs x points x 2 (angle in radians, distance).\n",
        "    We use float not the original ints from the font - according to https://github.com/fchollet/keras/issues/2218.\n",
        "    \"\"\"\n",
        "    font = TTFont(fontfile)\n",
        "    unitsPerEm = font['head'].unitsPerEm * 0.9\n",
        "    numglyphs = len(glyphs)\n",
        "    outlines = np.zeros((numglyphs, max_outline_points, 2 + y_divisions*2), np.float32)\n",
        "    def encode(dx): \n",
        "        '''turn -1.0 -> 1.0 into 0 -> y_divisions'''\n",
        "        assert -1.0 < dx < 1.0\n",
        "        return math.floor((dx+1.0)/2 * y_divisions)\n",
        "    def update(outline, last, next):\n",
        "        dx = encode((next[0]-last[0])/ unitsPerEm)\n",
        "        dy = encode((next[1]-last[1])/ unitsPerEm)\n",
        "        outline[LastDim.Size + dx] = 1.0\n",
        "        outline[LastDim.Size + dy + y_divisions] = 1.0\n",
        "        return last[0]+(dx/float(y_divisions)*2.0-1.0)*unitsPerEm, last[1]+(dy/float(y_divisions)*2.0-1.0)*unitsPerEm\n",
        "    for i, letter in enumerate(glyphs):\n",
        "        contours = GetCoordinates(font, letter)\n",
        "        j = 0\n",
        "        startp = (0,0.1)\n",
        "        #ttx contours are areas within the glyph, like the outside and inside outlines of an O\n",
        "        for xy in contours:\n",
        "            #fill output matrix, start with hidden line to start position\n",
        "            startp = update(outlines[i,j], startp, xy[0])\n",
        "            outlines[i,j,LastDim.Show] = 0\n",
        "            j = j+1\n",
        "            if j>=max_outline_points: break\n",
        "            #then between points\n",
        "            for n in range(len(xy)-1):\n",
        "                startp = update(outlines[i,j], startp, xy[n+1])\n",
        "                outlines[i,j,LastDim.Show] = 1\n",
        "                j = j+1\n",
        "                if j>=max_outline_points: break\n",
        "            if j>=max_outline_points: break\n",
        "            #finally wrap last point to first in contour\n",
        "            N=len(xy)-1\n",
        "            startp = update(outlines[i,j], startp, xy[0])\n",
        "            outlines[i,j,LastDim.Show] = 1\n",
        "            j = j+1\n",
        "            if j>=max_outline_points: break\n",
        "        outlines[i,:j,LastDim.Active] = 1\n",
        "    return outlines"
      ],
      "execution_count": 0,
      "outputs": []
    },
    {
      "metadata": {
        "id": "WRrFMeZZPOvR",
        "colab_type": "code",
        "colab": {}
      },
      "cell_type": "code",
      "source": [
        "def drawOutlines(outlines, cellsize, scheme):\n",
        "    \"\"\"Draw numpy array interpreted as a glyph per row and each row containing x,y or angle,dist pairs.\"\"\"\n",
        "    columns = math.ceil(800/cellsize)\n",
        "    rows = math.ceil(outlines.shape[0]/columns)\n",
        "    def drawPoints(im, points, cellx, celly):\n",
        "        #temporary image to use to xor each part with main image\n",
        "        im2 = Image.new('1', size=(columns*cellsize, rows*cellsize), color=(0)) \n",
        "        draw = ImageDraw.Draw(im2) \n",
        "        draw.polygon(points, fill=1)\n",
        "        im = ImageChops.logical_xor(im, im2)\n",
        "        return im\n",
        "    def unencode(onehot):\n",
        "        assert onehot.shape == (y_divisions,)\n",
        "        return (np.argmax(onehot)/float(y_divisions)*2)-1.0\n",
        "    scale = cellsize * 0.9\n",
        "    im = Image.new('1', size=(columns*cellsize, rows*cellsize), color=(0)) \n",
        "    for i in range(outlines.shape[0]):\n",
        "        celly,cellx = divmod(i, columns)\n",
        "        cellx *= cellsize\n",
        "        celly *= cellsize\n",
        "        points = []\n",
        "        x,y=(0,cellsize-1)\n",
        "        for j in range(outlines.shape[1]):\n",
        "            if outlines[i][j][LastDim.Active]<0.5: \n",
        "                break;\n",
        "            x += unencode(outlines[i][j][LastDim.Size : LastDim.Size + y_divisions])*scale\n",
        "            y -= unencode(outlines[i][j][LastDim.Size + y_divisions : LastDim.Size + y_divisions*2])*scale\n",
        "            if outlines[i][j][LastDim.Show]>0.5:\n",
        "                points += (cellx+x,celly+y)\n",
        "            elif len(points)>2:\n",
        "                im = drawPoints(im, points, cellx, celly)\n",
        "                points=[]\n",
        "        if len(points)>2:\n",
        "            im = drawPoints(im, points, cellx, celly)\n",
        "    return im\n",
        "\n",
        "def drawXYs(xxs, ygrid, cellsize):\n",
        "    '''Draw a glyph rasterisation based on a input y coord array with array of x-intercepts of lines with the y coord'''\n",
        "    columns = math.ceil(800/cellsize)\n",
        "    rows = math.ceil(xxs.shape[0]/columns)\n",
        "    scale = cellsize * 0.9\n",
        "    im = Image.new('1', size=(columns*cellsize, rows*cellsize), color=(0)) \n",
        "    draw = ImageDraw.Draw(im) \n",
        "    for i in range(xxs.shape[0]):\n",
        "        yy,xx = divmod(i, columns)\n",
        "        xx *= cellsize\n",
        "        yy = (yy+1)*cellsize-1\n",
        "        for xs, y in zip(xxs[i], ygrid):\n",
        "            for x in xs:\n",
        "                if x>0.0:\n",
        "                    draw.ellipse((xx+x*scale, yy-y*scale, xx+x*scale+3, yy-y*scale+3), fill=1)\n",
        "    return im"
      ],
      "execution_count": 0,
      "outputs": []
    },
    {
      "metadata": {
        "id": "P5RLGsPlPOvV",
        "colab_type": "code",
        "colab": {},
        "outputId": "4dfc36fa-de6f-4311-fa07-52648724fb22"
      },
      "cell_type": "code",
      "source": [
        "print('setup...')\n",
        "glyphs = [chr(i) for i in range(ord('A'), ord('Z')+1)]\n",
        "glyphs += [chr(i) for i in range(ord('a'), ord('z')+1)]\n",
        "glyphs += ['zero','one','two','three','four','five','six','seven','eight','nine']\n",
        "#glyphs = ['A','B','a','b','one','two']\n",
        "#glyphs = ['A']\n",
        "max_points_per_line = 10 # required for g, m\n",
        "max_outline_points = 110\n",
        "y_divisions = 30\n",
        "ygrid = np.linspace(0.0, 1.0, y_divisions, endpoint=False) #y coordinates to render on\n",
        "files = glob.glob('deeper/Courier*.ttf')\n",
        "inputs, outlines = readFonts(files, glyphs, max_outline_points, y_divisions)\n",
        "batch_size = outlines.shape[0]\n",
        "print(outlines[0,0])\n",
        "#inputs = np.identity(len(glyphs), dtype=float)  #input is one-hot vec, one per glyph\n",
        "#outlines = generateOutlines('deeper/Courier Prime.ttf', glyphs, max_outline_points, ygrid)\n",
        "print(\"input shape (glyphs, characters+fonts): \", inputs.shape)\n",
        "print(\"outline shape (glyphs, max_points_per_line, 2+2*y_divisions): \", outlines.shape)\n",
        "#with tf.Session() as sess:\n",
        "#    xcoords = renderGlyphs(outlines, max_points_per_line, ygrid, scheme).eval()\n",
        "    #print(xcoords)\n",
        "#    print(\"output shape: \", xcoords.shape)\n",
        "cellsize = 50\n",
        "scheme = Scheme.DXDY\n",
        "drawOutlines(outlines, cellsize, scheme)\n",
        "#display(drawOutlines(outlines, cellsize, scheme), drawXYs(xcoords, ygrid, cellsize))"
      ],
      "execution_count": 0,
      "outputs": [
        {
          "output_type": "stream",
          "text": [
            "setup...\n",
            "loading 4 files\n",
            "loading deeper\\Courier Prime Bold Italic.ttf\n",
            "loading deeper\\Courier Prime Bold.ttf\n",
            "loading deeper\\Courier Prime Italic.ttf\n",
            "loading deeper\\Courier Prime.ttf\n",
            "[0. 1. 0. 0. 0. 0. 0. 0. 0. 0. 0. 0. 0. 0. 0. 0. 0. 0. 0. 0. 1. 0. 0. 0.\n",
            " 0. 0. 0. 0. 0. 0. 0. 0. 0. 0. 0. 0. 0. 0. 0. 0. 0. 0. 0. 0. 0. 0. 0. 0.\n",
            " 0. 0. 0. 0. 0. 0. 1. 0. 0. 0. 0. 0. 0. 0.]\n",
            "input shape (glyphs, characters+fonts):  (248, 66)\n",
            "outline shape (glyphs, max_points_per_line, 2+2*y_divisions):  (248, 110, 62)\n"
          ],
          "name": "stdout"
        },
        {
          "output_type": "execute_result",
          "data": {
            "image/png": "[encoded data removed]",
            "text/plain": [
              "<PIL.Image.Image image mode=1 size=800x800 at 0x294C0612080>"
            ]
          },
          "metadata": {
            "tags": []
          },
          "execution_count": 14
        }
      ]
    }
  ]
}