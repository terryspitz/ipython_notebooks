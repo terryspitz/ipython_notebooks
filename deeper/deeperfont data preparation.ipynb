{
  "nbformat": 4,
  "nbformat_minor": 0,
  "metadata": {
    "colab": {
      "name": "deeperfont data preparation.ipynb",
      "version": "0.3.2",
      "provenance": [],
      "collapsed_sections": [],
      "include_colab_link": true
    },
    "kernelspec": {
      "display_name": "Python 3",
      "language": "python",
      "name": "python3"
    }
  },
  "cells": [
    {
      "cell_type": "markdown",
      "metadata": {
        "id": "view-in-github",
        "colab_type": "text"
      },
      "source": [
        "[View in Colaboratory](https://colab.research.google.com/github/terryspitz/ipython_notebooks/blob/master/deeper/deeperfont%20data%20preparation.ipynb)"
      ]
    },
    {
      "metadata": {
        "id": "TzwyGOrLPOvD",
        "colab_type": "text"
      },
      "cell_type": "markdown",
      "source": [
        "Import TTF fonts and output training data: a series of point deltas (dx, dy) along with booleans for pen-up/pen-down and next-glyph."
      ]
    },
    {
      "metadata": {
        "id": "fJn7ol5SPOvG",
        "colab_type": "code",
        "colab": {
          "base_uri": "https://localhost:8080/",
          "height": 104
        },
        "outputId": "07c76cb6-1693-48d5-dd15-708d631627c9"
      },
      "cell_type": "code",
      "source": [
        "#jupyter notebook    --NotebookApp.allow_origin='https://colab.research.google.com'    --port=8888\n",
        "from enum import Enum, IntEnum\n",
        "import math\n",
        "import os\n",
        "import glob\n",
        "import xml.etree.ElementTree as ET\n",
        "import numpy as np\n",
        "from PIL import Image, ImageDraw, ImageChops, ImageFont\n",
        "from IPython.display import display\n",
        "import tensorflow as tf\n",
        "tf.enable_eager_execution()\n",
        "print(np.__version__)\n",
        "print(tf.__version__)\n",
        "np.set_printoptions(precision=2)\n"
      ],
      "execution_count": 1,
      "outputs": [
        {
          "output_type": "stream",
          "text": [
            "C:\\Users\\terry\\Anaconda3\\lib\\site-packages\\h5py\\__init__.py:34: FutureWarning: Conversion of the second argument of issubdtype from `float` to `np.floating` is deprecated. In future, it will be treated as `np.float64 == np.dtype(float).type`.\n",
            "  from ._conv import register_converters as _register_converters\n"
          ],
          "name": "stderr"
        },
        {
          "output_type": "stream",
          "text": [
            "1.14.2\n",
            "1.10.0\n"
          ],
          "name": "stdout"
        }
      ]
    },
    {
      "metadata": {
        "id": "WQvWRJ_wPOvO",
        "colab_type": "code",
        "colab": {}
      },
      "cell_type": "code",
      "source": [
        "#Read Font outlines from local font files and write outlines to file for fitting\n",
        "from fontTools.ttLib import TTFont  #pip install fonttools\n",
        "\n",
        "def GetCoordinates(font, glyphName):\n",
        "    \"\"\"font, glyphName --> glyph coordinates as expected by \"gvar\" table\n",
        "    The result includes four \"phantom points\" for the glyph metrics,\n",
        "    as mandated by the \"gvar\" spec.\n",
        "    Function from https://github.com/fonttools/fonttools/blob/master/Snippets/interpolate.py\n",
        "    By inspection coords[0] are all points, and coords[1] are the end of the ranges for each contour (shape)\n",
        "    \"\"\"\n",
        "    glyphTable = font[\"glyf\"]\n",
        "    glyph = glyphTable.glyphs.get(glyphName)\n",
        "    if glyph is None:\n",
        "        return None\n",
        "    glyph.expand(glyphTable)\n",
        "    glyph.recalcBounds(glyphTable)\n",
        "    coords = glyph.getCoordinates(glyphTable)\n",
        "    start=0\n",
        "    contours = []\n",
        "    for end in coords[1]:\n",
        "        contours.append(coords[0][start:end+1])\n",
        "        start=end+1\n",
        "    return contours\n",
        "\n",
        "class Stroke(IntEnum):\n",
        "    \"\"\"\n",
        "    Enum defining data contents of last dimension\n",
        "    \"\"\"\n",
        "    DX = 0\n",
        "    DY = 1\n",
        "    PenDown = 2  # +1 draw stroke, 0 if this stroke is hidden, i.e. to move between contours in the glyph\n",
        "    EndOfGlyph = 3  # +1 indicates this stroke is the last of the current glyph, else 0\n",
        "    Size = 4  # size of this enum\n",
        "    \n",
        "def generateOutlines(fontfile, glyphs, max_outline_points):\n",
        "    \"\"\"\n",
        "    Read the actual points from all glyphs in the font into numpy array.\n",
        "    Output is array of glyphs x points x 2 (angle in radians, distance).\n",
        "    We use float not the original ints from the font - according to https://github.com/fchollet/keras/issues/2218.\n",
        "    \"\"\"\n",
        "    font = TTFont(fontfile)\n",
        "    unitsPerEm = font['head'].unitsPerEm * 0.9\n",
        "    outlines = np.zeros((max_outline_points, Stroke.Size), np.float32)\n",
        "    j = 0\n",
        "    for i, letter in enumerate(glyphs):\n",
        "        contours = GetCoordinates(font, letter)\n",
        "        startp = (0,0.1)\n",
        "        #ttx contours are areas within the glyph, like the outside and inside outlines of an O\n",
        "        for xy in contours:\n",
        "            #fill output matrix, start with hidden line to start position\n",
        "            outlines[j,Stroke.DX] = (xy[0][0]-startp[0])/ unitsPerEm\n",
        "            outlines[j,Stroke.DY] = (xy[0][1]-startp[1])/ unitsPerEm\n",
        "            outlines[j,Stroke.PenDown] = 0\n",
        "            j = j+1\n",
        "            if j>=max_outline_points: break\n",
        "            startp = xy[0]\n",
        "            #then between points\n",
        "            for n in range(len(xy)-1):\n",
        "                outlines[j,Stroke.DX] = (xy[n+1][0]-xy[n][0])/ unitsPerEm\n",
        "                outlines[j,Stroke.DY] = (xy[n+1][1]-xy[n][1])/ unitsPerEm\n",
        "                outlines[j,Stroke.PenDown] = 1\n",
        "                j = j+1\n",
        "                if j>=max_outline_points: break\n",
        "            if j>=max_outline_points: break\n",
        "            #finally wrap last point to first in contour\n",
        "            N=len(xy)-1\n",
        "            outlines[j,Stroke.DX] = (xy[0][0]-xy[N][0])/ unitsPerEm\n",
        "            outlines[j,Stroke.DY] = (xy[0][1]-xy[N][1])/ unitsPerEm\n",
        "            outlines[j,Stroke.PenDown] = 1\n",
        "            j = j+1\n",
        "            if j>=max_outline_points: break\n",
        "        outlines[j-1,Stroke.EndOfGlyph] = 1  # otherwise leave as 0\n",
        "    print(\"Font %s has %d points\" % (fontfile, j))\n",
        "    return outlines\n",
        "  \n",
        "def readFonts(files, glyphs, max_outline_points):\n",
        "    print('loading {} files'.format(len(files)))\n",
        "    outlines = []\n",
        "    for i, fontfile in enumerate(files):\n",
        "        outlines.append(generateOutlines(fontfile, glyphs, max_outline_points))\n",
        "    return np.stack(outlines)\n"
      ],
      "execution_count": 0,
      "outputs": []
    },
    {
      "metadata": {
        "id": "WRrFMeZZPOvR",
        "colab_type": "code",
        "colab": {}
      },
      "cell_type": "code",
      "source": [
        "def drawOutlines(outlines, cellsize, glyphCount):\n",
        "  \"\"\"Draw numpy array interpreted as a glyph per row and each row containing x,y or angle,dist pairs.\"\"\"\n",
        "  im = Image.new('1', size=(glyphCount*cellsize, outlines.shape[0]*cellsize), color=(0))\n",
        "  def drawPoints(im, points):\n",
        "    if len(points)<=2:\n",
        "      return im\n",
        "    #temporary image to use to xor each part with main image\n",
        "    im2 = Image.new('1', size=(glyphCount*cellsize, outlines.shape[0]*cellsize), color=(0)) \n",
        "    draw = ImageDraw.Draw(im2).polygon(points, fill=1)\n",
        "    return ImageChops.logical_xor(im, im2)\n",
        "  scale = cellsize * 0.9\n",
        "  for font in range(outlines.shape[0]):\n",
        "    i = 0\n",
        "    for glyphNum in range(glyphCount):\n",
        "      points = []\n",
        "      x,y = (glyphNum * cellsize, (font+1) * cellsize)\n",
        "      while True:\n",
        "        x += outlines[font,i,Stroke.DX]*scale\n",
        "        y -= outlines[font,i,Stroke.DY]*scale\n",
        "        #print(outlines[font,i], x,y)\n",
        "        if outlines[font,i,Stroke.PenDown]>0.5:\n",
        "          points += (x,y)\n",
        "        else:\n",
        "          im = drawPoints(im, points)\n",
        "          points=[(x,y)]\n",
        "        i+=1\n",
        "        if outlines[font,i,Stroke.EndOfGlyph]>0.5 or i>=outlines.shape[1]:\n",
        "          break\n",
        "      im = drawPoints(im, points)\n",
        "  return im\n"
      ],
      "execution_count": 0,
      "outputs": []
    },
    {
      "metadata": {
        "id": "Na0-3m6APOvM",
        "colab_type": "code",
        "colab": {}
      },
      "cell_type": "code",
      "source": [
        "def renderGlyphs(outlines, max_points_per_scanline, ygrid, glyphCount):\n",
        "    '''\n",
        "    Pure tensorflow function\n",
        "    Input: 2D tensor of max_outline_points * Stroke (DX,DY,PenDown,EndOfGlyph)\n",
        "    Output: glyphCount * y coord * sorted x coords for each scanline\n",
        "    '''\n",
        "    xs = tf.cumsum(outlines[:,Stroke.DX], axis=-1)+1e-2\n",
        "    ys = tf.cumsum(outlines[:,Stroke.DY], axis=-1)+1e-2\n",
        "    glyphNums = tf.cumsum((outlines[:,Stroke.EndOfGlyph]>0.5)*1, axis=-1)\n",
        "    #np.arange(glyphCount)\n",
        "    visible = tf.logical_or(xs[1:]>0,ys[1:]>0)\n",
        "    #offset to create line start x1,y1 to end x2,y2\n",
        "    x1s = xs[:-1]\n",
        "    x2s = xs[1:]\n",
        "    y1s = ys[:-1]\n",
        "    y2s = ys[1:]\n",
        "    #add 2rd dimension (size=1) so following interpolation in y is broadcast across all lines\n",
        "    xx1s=tf.expand_dims(x1s,-1)\n",
        "    xx2s=tf.expand_dims(x2s,-1)\n",
        "    yy1s=tf.expand_dims(y1s,-1)\n",
        "    yy2s=tf.expand_dims(y2s,-1)\n",
        "    #linear interpolate the x coords for all lines at all y coord\n",
        "    xxs = xx1s + (xx2s-xx1s)*(ygrid-yy1s)/(yy2s-yy1s)\n",
        "    #zero x coords outside of line y bounds or where dy=0 and for hidden lines\n",
        "    in_range = tf.logical_or(tf.logical_and(yy1s<ygrid, ygrid<=yy2s), tf.logical_and(yy2s<ygrid, ygrid<=yy1s))\n",
        "    in_range = tf.logical_and(in_range, yy2s!=yy1s)\n",
        "    in_range = tf.logical_and(in_range, tf.expand_dims(visible,-1))\n",
        "    xxs = tf.where(in_range, xxs, tf.zeros_like(xxs)) \n",
        "    return tf.nn.top_k(tf.transpose(xxs, perm=(1,0)),max_points_per_scanline).values\n",
        "  \n",
        "def drawXYs(xxs, ygrid, cellsize):\n",
        "    '''Draw a glyph rasterisation based on a input y coord array with array of x-intercepts of lines with the y coord'''\n",
        "    columns = math.ceil(800/cellsize)\n",
        "    rows = 1 #math.ceil(xxs.shape[0]/columns)\n",
        "    scale = cellsize * 0.9\n",
        "    im = Image.new('1', size=(columns*cellsize, rows*cellsize), color=(0)) \n",
        "    draw = ImageDraw.Draw(im) \n",
        "    for i in range(xxs.shape[0]):\n",
        "        yy,xx = divmod(i, columns)\n",
        "        xx *= cellsize\n",
        "        yy = (yy+1)*cellsize-1\n",
        "        for xs, y in zip(xxs[i], ygrid):\n",
        "            for x in xs:\n",
        "                if x>0.0:\n",
        "                    draw.ellipse((xx+x*scale, yy-y*scale, xx+x*scale+3, yy-y*scale+3), fill=1)\n",
        "    return im  "
      ],
      "execution_count": 0,
      "outputs": []
    },
    {
      "metadata": {
        "id": "P5RLGsPlPOvV",
        "colab_type": "code",
        "colab": {
          "base_uri": "https://localhost:8080/",
          "height": 1301
        },
        "outputId": "b5d179dc-8d23-4040-d1ec-84396e696df3"
      },
      "cell_type": "code",
      "source": [
        "print('setup...')\n",
        "glyphs = [chr(i) for i in range(ord('A'), ord('Z')+1)]\n",
        "glyphs += [chr(i) for i in range(ord('a'), ord('z')+1)]\n",
        "glyphs += ['zero','one','two','three','four','five','six','seven','eight','nine']\n",
        "#glyphs = ['A','B','a','b','one','two']\n",
        "#glyphs = ['A']\n",
        "max_points_per_scanline = 10 # required for g, m\n",
        "max_outline_points = 5000\n",
        "ygrid = np.linspace(0.0, 1.0, 30, endpoint=False) #y coordinates to render on\n",
        "files = glob.glob('deeper/fonts/Courier*.ttf')\n",
        "outlines = readFonts(files, glyphs, max_outline_points)\n",
        "batch_size = outlines.shape[0]\n",
        "#print(outlines[0,:200])\n",
        "print(\"outline shape (fonts, max_points_per_scanline, Stroke.Size): \", outlines.shape)\n",
        "cellsize = 50\n",
        "display(drawOutlines(outlines, cellsize, len(glyphs)))\n",
        "\n",
        "#test the TF scanline algorithm\n",
        "xcoords = renderGlyphs(outlines[1], max_points_per_scanline, ygrid, len(glyphs))\n",
        "print(\"output shape: \", xcoords.shape)\n",
        "print(xcoords)\n",
        "display(drawXYs(xcoords, ygrid, cellsize))"
      ],
      "execution_count": 33,
      "outputs": [
        {
          "output_type": "stream",
          "text": [
            "setup...\n",
            "loading 4 files\n",
            "Font deeper/fonts\\Courier Prime Bold Italic.ttf has 4188 points\n",
            "Font deeper/fonts\\Courier Prime Bold.ttf has 4090 points\n",
            "Font deeper/fonts\\Courier Prime Italic.ttf has 3547 points\n",
            "Font deeper/fonts\\Courier Prime.ttf has 3499 points\n",
            "outline shape (fonts, max_points_per_scanline, Stroke.Size):  (4, 5000, 4)\n"
          ],
          "name": "stdout"
        },
        {
          "output_type": "display_data",
          "data": {
            "text/plain": [
              "<PIL.Image.Image image mode=1 size=3100x200 at 0x186812AA4A8>"
            ],
            "image/png": "[encoded data removed]"
          },
          "metadata": {
            "tags": []
          }
        },
        {
          "output_type": "stream",
          "text": [
            "output shape:  (30, 10)\n",
            "tf.Tensor(\n",
            "[[0.   0.   0.   0.   0.   0.   0.   0.   0.   0.  ]\n",
            " [0.68 0.39 0.29 0.01 0.   0.   0.   0.   0.   0.  ]\n",
            " [0.68 0.38 0.29 0.   0.   0.   0.   0.   0.   0.  ]\n",
            " [0.68 0.39 0.29 0.01 0.   0.   0.   0.   0.   0.  ]\n",
            " [0.6  0.46 0.22 0.09 0.   0.   0.   0.   0.   0.  ]\n",
            " [0.59 0.45 0.23 0.1  0.   0.   0.   0.   0.   0.  ]\n",
            " [0.58 0.11 0.   0.   0.   0.   0.   0.   0.   0.  ]\n",
            " [0.56 0.12 0.   0.   0.   0.   0.   0.   0.   0.  ]\n",
            " [0.55 0.13 0.   0.   0.   0.   0.   0.   0.   0.  ]\n",
            " [0.54 0.14 0.   0.   0.   0.   0.   0.   0.   0.  ]\n",
            " [0.93 0.53 0.45 0.41 0.4  0.39 0.28 0.15 0.   0.  ]\n",
            " [0.98 0.52 0.45 0.42 0.39 0.36 0.29 0.16 0.   0.  ]\n",
            " [1.   0.51 0.45 0.43 0.38 0.34 0.3  0.18 0.   0.  ]\n",
            " [1.02 0.84 0.78 0.78 0.67 0.54 0.5  0.44 0.37 0.31]\n",
            " [1.03 0.88 0.77 0.76 0.67 0.54 0.49 0.45 0.37 0.32]\n",
            " [1.03 0.88 0.77 0.74 0.67 0.54 0.48 0.45 0.36 0.33]\n",
            " [1.03 0.88 0.77 0.72 0.67 0.54 0.47 0.46 0.35 0.34]\n",
            " [1.02 0.85 0.76 0.7  0.67 0.54 0.47 0.46 0.1  0.  ]\n",
            " [0.99 0.76 0.68 0.54 0.48 0.45 0.1  0.   0.   0.  ]\n",
            " [0.96 0.76 0.66 0.54 0.49 0.44 0.1  0.   0.   0.  ]\n",
            " [0.93 0.75 0.64 0.54 0.5  0.   0.   0.   0.   0.  ]\n",
            " [1.22 1.01 0.96 0.8  0.77 0.67 0.62 0.54 0.5  0.  ]\n",
            " [1.32 1.2  0.99 0.93 0.85 0.67 0.6  0.54 0.51 0.  ]\n",
            " [1.79 1.37 1.36 1.34 0.99 0.9  0.85 0.67 0.58 0.54]\n",
            " [1.86 1.37 1.36 1.35 0.99 0.87 0.85 0.67 0.56 0.54]\n",
            " [1.89 1.37 1.36 1.35 1.24 1.02 0.98 0.85 0.81 0.67]\n",
            " [2.25 1.92 1.74 1.69 1.65 1.65 1.59 1.46 1.37 1.32]\n",
            " [2.26 1.93 1.77 1.68 1.66 1.63 1.59 1.46 1.37 0.97]\n",
            " [2.26 1.95 1.79 1.68 1.67 1.62 1.59 1.46 1.38 0.95]\n",
            " [2.26 1.96 1.82 1.69 1.67 1.6  1.59 1.46 1.39 0.95]], shape=(30, 10), dtype=float32)\n"
          ],
          "name": "stdout"
        },
        {
          "output_type": "error",
          "ename": "TypeError",
          "evalue": "ignored",
          "traceback": [
            "\u001b[1;31m---------------------------------------------------------------------------\u001b[0m",
            "\u001b[1;31mTypeError\u001b[0m                                 Traceback (most recent call last)",
            "\u001b[1;32m<ipython-input-33-cc5a20a76424>\u001b[0m in \u001b[0;36m<module>\u001b[1;34m()\u001b[0m\n\u001b[0;32m     20\u001b[0m \u001b[0mprint\u001b[0m\u001b[1;33m(\u001b[0m\u001b[1;34m\"output shape: \"\u001b[0m\u001b[1;33m,\u001b[0m \u001b[0mxcoords\u001b[0m\u001b[1;33m.\u001b[0m\u001b[0mshape\u001b[0m\u001b[1;33m)\u001b[0m\u001b[1;33m\u001b[0m\u001b[0m\n\u001b[0;32m     21\u001b[0m \u001b[0mprint\u001b[0m\u001b[1;33m(\u001b[0m\u001b[0mxcoords\u001b[0m\u001b[1;33m)\u001b[0m\u001b[1;33m\u001b[0m\u001b[0m\n\u001b[1;32m---> 22\u001b[1;33m \u001b[0mdrawXYs\u001b[0m\u001b[1;33m(\u001b[0m\u001b[0mxcoords\u001b[0m\u001b[1;33m,\u001b[0m \u001b[0mygrid\u001b[0m\u001b[1;33m,\u001b[0m \u001b[0mcellsize\u001b[0m\u001b[1;33m)\u001b[0m\u001b[1;33m.\u001b[0m\u001b[0mimshow\u001b[0m\u001b[1;33m(\u001b[0m\u001b[1;33m)\u001b[0m\u001b[1;33m\u001b[0m\u001b[0m\n\u001b[0m",
            "\u001b[1;32m<ipython-input-31-4a794b96b8d0>\u001b[0m in \u001b[0;36mdrawXYs\u001b[1;34m(xxs, ygrid, cellsize)\u001b[0m\n\u001b[0;32m     40\u001b[0m         \u001b[0myy\u001b[0m \u001b[1;33m=\u001b[0m \u001b[1;33m(\u001b[0m\u001b[0myy\u001b[0m\u001b[1;33m+\u001b[0m\u001b[1;36m1\u001b[0m\u001b[1;33m)\u001b[0m\u001b[1;33m*\u001b[0m\u001b[0mcellsize\u001b[0m\u001b[1;33m-\u001b[0m\u001b[1;36m1\u001b[0m\u001b[1;33m\u001b[0m\u001b[0m\n\u001b[0;32m     41\u001b[0m         \u001b[1;32mfor\u001b[0m \u001b[0mxs\u001b[0m\u001b[1;33m,\u001b[0m \u001b[0my\u001b[0m \u001b[1;32min\u001b[0m \u001b[0mzip\u001b[0m\u001b[1;33m(\u001b[0m\u001b[0mxxs\u001b[0m\u001b[1;33m[\u001b[0m\u001b[0mi\u001b[0m\u001b[1;33m]\u001b[0m\u001b[1;33m,\u001b[0m \u001b[0mygrid\u001b[0m\u001b[1;33m)\u001b[0m\u001b[1;33m:\u001b[0m\u001b[1;33m\u001b[0m\u001b[0m\n\u001b[1;32m---> 42\u001b[1;33m             \u001b[1;32mfor\u001b[0m \u001b[0mx\u001b[0m \u001b[1;32min\u001b[0m \u001b[0mxs\u001b[0m\u001b[1;33m:\u001b[0m\u001b[1;33m\u001b[0m\u001b[0m\n\u001b[0m\u001b[0;32m     43\u001b[0m                 \u001b[1;32mif\u001b[0m \u001b[0mx\u001b[0m\u001b[1;33m>\u001b[0m\u001b[1;36m0.0\u001b[0m\u001b[1;33m:\u001b[0m\u001b[1;33m\u001b[0m\u001b[0m\n\u001b[0;32m     44\u001b[0m                     \u001b[0mdraw\u001b[0m\u001b[1;33m.\u001b[0m\u001b[0mellipse\u001b[0m\u001b[1;33m(\u001b[0m\u001b[1;33m(\u001b[0m\u001b[0mxx\u001b[0m\u001b[1;33m+\u001b[0m\u001b[0mx\u001b[0m\u001b[1;33m*\u001b[0m\u001b[0mscale\u001b[0m\u001b[1;33m,\u001b[0m \u001b[0myy\u001b[0m\u001b[1;33m-\u001b[0m\u001b[0my\u001b[0m\u001b[1;33m*\u001b[0m\u001b[0mscale\u001b[0m\u001b[1;33m,\u001b[0m \u001b[0mxx\u001b[0m\u001b[1;33m+\u001b[0m\u001b[0mx\u001b[0m\u001b[1;33m*\u001b[0m\u001b[0mscale\u001b[0m\u001b[1;33m+\u001b[0m\u001b[1;36m3\u001b[0m\u001b[1;33m,\u001b[0m \u001b[0myy\u001b[0m\u001b[1;33m-\u001b[0m\u001b[0my\u001b[0m\u001b[1;33m*\u001b[0m\u001b[0mscale\u001b[0m\u001b[1;33m+\u001b[0m\u001b[1;36m3\u001b[0m\u001b[1;33m)\u001b[0m\u001b[1;33m,\u001b[0m \u001b[0mfill\u001b[0m\u001b[1;33m=\u001b[0m\u001b[1;36m1\u001b[0m\u001b[1;33m)\u001b[0m\u001b[1;33m\u001b[0m\u001b[0m\n",
            "\u001b[1;32m~\\Anaconda3\\lib\\site-packages\\tensorflow\\python\\framework\\ops.py\u001b[0m in \u001b[0;36m__iter__\u001b[1;34m(self)\u001b[0m\n\u001b[0;32m    435\u001b[0m       \u001b[1;32mraise\u001b[0m \u001b[0mTypeError\u001b[0m\u001b[1;33m(\u001b[0m\u001b[1;34m\"Cannot iterate over a tensor with unknown shape.\"\u001b[0m\u001b[1;33m)\u001b[0m\u001b[1;33m\u001b[0m\u001b[0m\n\u001b[0;32m    436\u001b[0m     \u001b[1;32mif\u001b[0m \u001b[1;32mnot\u001b[0m \u001b[0mshape\u001b[0m\u001b[1;33m:\u001b[0m\u001b[1;33m\u001b[0m\u001b[0m\n\u001b[1;32m--> 437\u001b[1;33m       \u001b[1;32mraise\u001b[0m \u001b[0mTypeError\u001b[0m\u001b[1;33m(\u001b[0m\u001b[1;34m\"Cannot iterate over a scalar tensor.\"\u001b[0m\u001b[1;33m)\u001b[0m\u001b[1;33m\u001b[0m\u001b[0m\n\u001b[0m\u001b[0;32m    438\u001b[0m     \u001b[1;32mif\u001b[0m \u001b[0mshape\u001b[0m\u001b[1;33m[\u001b[0m\u001b[1;36m0\u001b[0m\u001b[1;33m]\u001b[0m \u001b[1;32mis\u001b[0m \u001b[1;32mNone\u001b[0m\u001b[1;33m:\u001b[0m\u001b[1;33m\u001b[0m\u001b[0m\n\u001b[0;32m    439\u001b[0m       raise TypeError(\n",
            "\u001b[1;31mTypeError\u001b[0m: Cannot iterate over a scalar tensor."
          ]
        }
      ]
    },
    {
      "metadata": {
        "id": "li5pk9IDVmQA",
        "colab_type": "code",
        "colab": {}
      },
      "cell_type": "code",
      "source": [
        ""
      ],
      "execution_count": 0,
      "outputs": []
    }
  ]
}