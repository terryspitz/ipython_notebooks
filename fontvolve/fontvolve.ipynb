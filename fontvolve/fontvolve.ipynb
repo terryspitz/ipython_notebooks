{
 "cells": [
  {
   "cell_type": "markdown",
   "metadata": {},
   "source": [
    "# fontvolve: Generic algorithm to evolve a letter outline\n",
    "\n",
    "The outline of the letter is encoded into a gene as a sequence of angles and distances, just like how [Logo](https://en.wikipedia.org/wiki/Logo_(programming_language) instructions code the movement of a turtle.  The fitness function compares the drawn letter with the true letter, xor-ing the images and counting the black pixels representing a match."
   ]
  },
  {
   "cell_type": "code",
   "execution_count": 5,
   "metadata": {
    "collapsed": false
   },
   "outputs": [
    {
     "data": {
      "image/png": "[encoded data removed]",
      "text/plain": [
       "<PIL.Image.Image image mode=1 size=100x100 at 0x2017F057630>"
      ]
     },
     "execution_count": 5,
     "metadata": {},
     "output_type": "execute_result"
    }
   ],
   "source": [
    "from PIL import Image, ImageFont, ImageDraw, ImageChops\n",
    "size = 100\n",
    "black_and_white_format = '1'\n",
    "gene_image = Image.new(black_and_white_format, (size,size), 0)\n",
    "letter_image = Image.new(black_and_white_format, (size,size), 1)\n",
    "usr_font = ImageFont.truetype(\"ARLRDBD.TTF\", size)\n",
    "drawing = ImageDraw.Draw(letter_image)\n",
    "drawing.text((20,0), \"E\", fill=0, font=usr_font)\n",
    "letter_image\n"
   ]
  },
  {
   "cell_type": "code",
   "execution_count": 6,
   "metadata": {
    "collapsed": false
   },
   "outputs": [],
   "source": [
    "import math\n",
    "\n",
    "def draw(gene):\n",
    "    drawing = ImageDraw.Draw(gene_image) #to draw on an image\n",
    "    drawing.rectangle((0,0,size,size), \"white\")\n",
    "    coords = []\n",
    "    x,y = (size/2,size/2)\n",
    "    degreeToRadians = 360/(2*math.pi)\n",
    "    for (angle, dist) in gene:\n",
    "        x+=dist*math.sin(angle/degreeToRadians)\n",
    "        y+=dist*math.cos(angle/degreeToRadians)\n",
    "        coords.append((x,y))\n",
    "    #print(coords)\n",
    "    drawing.polygon(coords, fill=\"black\")\n",
    "    return gene_image\n",
    "\n",
    "#fitness function: calculate a percentage of image matching the letter, with a small correction to favour shorter genes\n",
    "def match_letter(gene):\n",
    "    return float(ImageChops.logical_xor(draw(gene), letter_image).histogram()[0]-5*len(gene))/size/size\n",
    "\n",
    "def draw_all(gene_pool):\n",
    "    image = Image.new(\"1\", (size*10,size*10), 1)\n",
    "    for i in range(0,10):\n",
    "        for j in range(0,10):\n",
    "            image.paste(draw(gene_pool[i*10+j]), (j*size, i*size))\n",
    "            #image.paste(ImageChops.logical_xor(draw(gene_pool[i*10+j]), letter_image), (i*size, j*size))\n",
    "    return image\n"
   ]
  },
  {
   "cell_type": "code",
   "execution_count": 7,
   "metadata": {
    "collapsed": false
   },
   "outputs": [],
   "source": [
    "from random import random, randint, choice, seed\n",
    "\n",
    "def mutate(gene):\n",
    "    new_gene = []\n",
    "    variation = 2\n",
    "    for pair in gene:\n",
    "        rand = random()\n",
    "        if rand<0.1: #add pair\n",
    "            new_gene.append((pair[0]+randint(-20,20), pair[1]/2))\n",
    "            new_gene.append((pair[0]+randint(-20,20), pair[1]/2))\n",
    "        elif rand<0.2: #remove gene\n",
    "            None\n",
    "        elif rand<0.6: #mutate angle \n",
    "            new_gene.append( (pair[0]+randint(-20,20), pair[1]) )\n",
    "        else: #mutate distance\n",
    "            new_gene.append( (pair[0], pair[1]+randint(-variation,variation)) )\n",
    "    return new_gene if len(new_gene)>=2 else gene\n",
    "\n",
    "#combine random part of gene1 with random part of gene2 in random order\n",
    "def combine(gene1, gene2):\n",
    "    if random()<0.5:\n",
    "        return gene1[:randint(2,len(gene1))] + gene2[randint(0,len(gene2)):]\n",
    "    else:\n",
    "        return gene2[:randint(2,len(gene2))] + gene1[randint(0,len(gene1)):]\n",
    "\n",
    "from heapq import nlargest\n",
    "\n",
    "def evolve(gene_pool):\n",
    "    indices = range(0,len(gene_pool))\n",
    "    scores = [match_letter(gene) for gene in gene_pool]\n",
    "    mutate_fraction = 0.1\n",
    "    largest = nlargest(max(int(len(gene_pool)*mutate_fraction),1), indices, key=lambda i: scores[i])\n",
    "    #print([scores[large] for large in largest])\n",
    "    new_genes = [gene_pool[n] for n in nlargest(2, indices, key=lambda i: scores[i])]\n",
    "    for large in largest:\n",
    "        #print(match_letter(gene_pool[large]), gene_pool[large])\n",
    "        new_genes.append(gene_pool[large])\n",
    "        mutated = mutate(gene_pool[large])\n",
    "        #print(match_letter(mutated), mutated)\n",
    "        new_genes.append(mutated)\n",
    "    while len(new_genes)<len(gene_pool):\n",
    "        new_genes.append(combine(gene_pool[choice(largest)],choice(gene_pool)))\n",
    "        \n",
    "    return new_genes"
   ]
  },
  {
   "cell_type": "code",
   "execution_count": 8,
   "metadata": {
    "collapsed": false
   },
   "outputs": [],
   "source": [
    "pool_size = 200\n",
    "seed(1)\n",
    "gene_pool = [[(randint(-90,90), randint(0,size/2)) for pairs in range(0, randint(3,20))] for genes in range(0,pool_size)]\n",
    "orig_pool = gene_pool"
   ]
  },
  {
   "cell_type": "code",
   "execution_count": 9,
   "metadata": {
    "collapsed": false
   },
   "outputs": [
    {
     "name": "stdout",
     "output_type": "stream",
     "text": [
      "0.9242\n"
     ]
    },
    {
     "data": {
      "image/png": "[encoded data removed]",
      "text/plain": [
       "<PIL.Image.Image image mode=1 size=1000x1000 at 0x2017F1F69E8>"
      ]
     },
     "execution_count": 9,
     "metadata": {},
     "output_type": "execute_result"
    }
   ],
   "source": [
    "generations= gene_pool[0:10]\n",
    "for gen in range(0,10):\n",
    "    for i in range(0,300):\n",
    "        #print(gene_pool[0])\n",
    "        gene_pool = evolve(gene_pool)\n",
    "    generations += gene_pool[0:10]\n",
    "    \n",
    "#print(orig_pool[0])\n",
    "print(match_letter(gene_pool[0]))\n",
    "#ImageChops.logical_xor(draw(gene_pool[0]), letter_image)\n",
    "#draw(gene_pool[0])\n",
    "\n",
    "draw_all(generations)"
   ]
  },
  {
   "cell_type": "markdown",
   "metadata": {},
   "source": [
    "# Sample evolved fonts\n",
    "![A](http://nbviewer.jupyter.org/github/terryspitz/ipython_notebooks/blob/master/fontvolve/fontA.png)\n",
    "![B](http://nbviewer.jupyter.org/github/terryspitz/ipython_notebooks/blob/master/fontvolve/fontB.png)\n",
    "![S](http://nbviewer.jupyter.org/github/terryspitz/ipython_notebooks/blob/master/fontvolve/fontS.png) (not very well matched - I think needed to rerun a few times to get a good starting point for it to work.)"
   ]
  }
 ],
 "metadata": {
  "anaconda-cloud": {},
  "kernelspec": {
   "display_name": "Python [default]",
   "language": "python",
   "name": "python3"
  },
  "language_info": {
   "codemirror_mode": {
    "name": "ipython",
    "version": 3
   },
   "file_extension": ".py",
   "mimetype": "text/x-python",
   "name": "python",
   "nbconvert_exporter": "python",
   "pygments_lexer": "ipython3",
   "version": "3.5.2"
  }
 },
 "nbformat": 4,
 "nbformat_minor": 0
}
