{
 "cells": [
  {
   "cell_type": "markdown",
   "metadata": {},
   "source": [
    "# Fontvolve-TensorFlow\n",
    "*[Website](http://nbviewer.jupyter.org/github/terryspitz/ipython_notebooks/blob/master/fontvolve-TF.ipynb)*\n",
    "\n",
    "Fontvolve is an evolutionary algorithm that attempts the 'Font Problem' - that is, how to capture the essence of a font in such a way as to generalise to unseen glyphs and to allow interpolation between different fonts or extrapolation of a full font from a few example letters.  This problem was noted as early as 1979 when Donald Knuth wrote the first version of [MetaFont](https://en.wikipedia.org/wiki/Metafont).\n",
    "\n",
    "An initial implementation using python lists with the Python Image library for rendering suffered poor performance and inability to multithread.  This version uses [Tensorflow](https://www.tensorflow.org/) to address these issues.  \n",
    "\n",
    "The evolutionary algorithm will operate on a gene representing the [glyph outlines](https://en.wikipedia.org/wiki/Glyph), expressed as (dx, dy) pairs for each line as in [Turtle graphics](https://en.wikipedia.org/wiki/Turtle_graphics) (best known for its  use in [Logo](https://en.wikipedia.org/wiki/Logo_(programming_language).)  We do not currently model the bezier curves used in the original glyphs, but allow the output to match the curve with a set of smaller straight lines.  As input to the algorithm, we convert rendered images to Tensorflow tensors.\n",
    "\n",
    "Considering the [loss](https://en.wikipedia.org/wiki/Loss_function) or evaluation function we note that the exact sequence of points in the glyph can be varied while generating identical rendered output, for example a line segment can be split into a number of smaller colinear segments.  The network should be free to express its results in any equivalent way.  The evaluation function is therefore required to compare rendered output not the exact series of doubles that generate the baseline.  We build an evaluation function in pure Tensorflow using a [scanline algorithm](https://en.wikipedia.org/wiki/Scanline_rendering) to generate a tensor containing the x coordinates of the outline for a set of equi-spaced y line. The predicted and true outlines are then compared by calculating the difference in these coordinates. This is an fairly unstable measure; to give the initial genes a good starting point we initial them to a random number of points arranged in a circle.\n",
    "\n",
    "See also:\n",
    "* [MetaFont](https://en.wikipedia.org/wiki/Metafont)\n",
    "* [Metaflop - interactive MetaFont](http://www.metaflop.com/modulator)\n",
    "* [deepfont](https://erikbern.com/2016/01/21/analyzing-50k-fonts-using-deep-neural-networks.html)\n",
    "* https://arxiv.org/abs/1507.03196\n",
    "* https://pypi.python.org/pypi/FontTools\n"
   ]
  },
  {
   "cell_type": "code",
   "execution_count": 1,
   "metadata": {},
   "outputs": [
    {
     "name": "stdout",
     "output_type": "stream",
     "text": [
      "np 1.13.3\ntf 1.4.0\n"
     ]
    }
   ],
   "source": [
    "from enum import Enum, IntEnum\n",
    "import math\n",
    "import os\n",
    "import glob\n",
    "from random import random, randint, choice, seed\n",
    "import numpy as np\n",
    "from PIL import Image, ImageDraw, ImageChops, ImageFont\n",
    "from IPython.display import display\n",
    "import tensorflow as tf\n",
    "from fontTools.ttLib import TTFont  # pip install fonttools\n",
    "np.set_printoptions(2)\n",
    "print('np',np.__version__)\n",
    "print('tf',tf.__version__)"
   ]
  },
  {
   "cell_type": "code",
   "execution_count": 12,
   "metadata": {
    "collapsed": true
   },
   "outputs": [],
   "source": [
    "def render_glyphs(gls, max_points_per_line, ygrid):\n",
    "    \"\"\"\n",
    "    Pure tensorflow function\n",
    "    Input: 2D tensor of glyph * outlines (either x,y or angle, distance pairs)\n",
    "    Output: glyph * matrix of sorted x coords for each line per y coording\n",
    "    \"\"\"\n",
    "    dxs = gls[:,:,LastDim.DX]\n",
    "    dys = gls[:,:,LastDim.DY]\n",
    "    xs = tf.cumsum(dxs, axis=-1)+1e-2\n",
    "    ys = tf.cumsum(dys, axis=-1)+1e-2\n",
    "    visible = tf.logical_or(xs[:, 1:]>0, ys[:, 1:]>0)\n",
    "        \n",
    "    # offset to create line start x1,y1 to end x2,y2\n",
    "    x1s = xs[:,:-1]\n",
    "    x2s = xs[:,1:]\n",
    "    y1s = ys[:,:-1]\n",
    "    y2s = ys[:,1:]\n",
    "    # add 3rd dimension (size=1) so following interpolation in y is broadcast across all lines\n",
    "    xx1s=tf.expand_dims(x1s,-1)\n",
    "    xx2s=tf.expand_dims(x2s,-1)\n",
    "    yy1s=tf.expand_dims(y1s,-1)\n",
    "    yy2s=tf.expand_dims(y2s,-1)\n",
    "    # interpolate the x coords for all lines at all y coord\n",
    "    xxs = xx1s + (xx2s-xx1s)*(ygrid-yy1s)/(yy2s-yy1s)\n",
    "    # zero x coords outside of line y bounds or where dy=0 and for hidden lines\n",
    "    in_range = tf.logical_or(tf.logical_and(yy1s<ygrid, ygrid<=yy2s), tf.logical_and(yy2s<ygrid, ygrid<=yy1s))\n",
    "    in_range = tf.logical_and(in_range, yy2s!=yy1s)\n",
    "    in_range = tf.logical_and(in_range, tf.expand_dims(visible,-1))\n",
    "    xxs = tf.where(in_range, xxs, tf.zeros_like(xxs)) \n",
    "    return tf.nn.top_k(tf.transpose(xxs, perm=(0, 2, 1)), max_points_per_line).values"
   ]
  },
  {
   "cell_type": "code",
   "execution_count": 13,
   "metadata": {},
   "outputs": [],
   "source": [
    "def get_glyph_coordinates(font, glyphName:str):\n",
    "    \"\"\"\n",
    "    font, glyphName --> glyph coordinates as expected by \"gvar\" table\n",
    "    The result includes four \"phantom points\" for the glyph metrics,\n",
    "    as mandated by the \"gvar\" spec.\n",
    "    Function from https://github.com/fonttools/fonttools/blob/master/Snippets/interpolate.py\n",
    "    By inspection coords[0] are all points, and coords[1] are the end of the ranges for each contour (shape)\n",
    "    \"\"\"\n",
    "    glyphTable = font[\"glyf\"]\n",
    "    glyph = glyphTable.glyphs.get(glyphName)\n",
    "    if glyph is None:\n",
    "        return None\n",
    "    glyph.expand(glyphTable)\n",
    "    glyph.recalcBounds(glyphTable)\n",
    "    coords = glyph.getCoordinates(glyphTable)\n",
    "    start=0\n",
    "    contours = []\n",
    "    for end in coords[1]:\n",
    "        contours.append(coords[0][start:end+1])\n",
    "        start=end+1\n",
    "    return contours\n",
    "\n",
    "\n",
    "def read_fonts(glyphs, max_outline_points, ygrid):\n",
    "    glyphinputs = np.identity(len(glyphs), dtype=float)  # input is one-hot vec, one per glyph\n",
    "    files = glob.glob('deeper\\Courier*.ttf')\n",
    "    if not files:\n",
    "        files = glob.glob(r'C:\\src\\notebooks\\deeper\\Courier*.ttf')\n",
    "    print('loading {} files: {}'.format(len(files), files))\n",
    "    inputs = []\n",
    "    outlines = []\n",
    "    for i, fontfile in enumerate(files):\n",
    "        print('loading {}'.format(fontfile))\n",
    "        fontvec = np.zeros(len(files))\n",
    "        fontvec[i] = 1\n",
    "        inputs.append(np.concatenate((glyphinputs, np.broadcast_to(fontvec, (glyphinputs.shape[0], fontvec.shape[0]))), axis=1))\n",
    "        outlines.append(generate_outlines(fontfile, glyphs, max_outline_points, ygrid))\n",
    "    return np.concatenate(inputs), np.concatenate(outlines)\n",
    "\n",
    "\n",
    "class LastDim(IntEnum):\n",
    "    \"\"\"\n",
    "    Enum defining last dimension\n",
    "    \"\"\"\n",
    "    DX = 0\n",
    "    DY = 1\n",
    "    Show = 2  # +1 draw, -1 if this line is hidden, i.e. between contours in the glyph\n",
    "    Active = 3  # >0 == further points in outline\n",
    "    Last_dim_size = 4\n",
    "    \n",
    "    \n",
    "def generate_outlines(fontfile:str, glyphs:str):\n",
    "    \"\"\"\n",
    "    Read the actual points from all glyphs in the font into numpy array.\n",
    "    Output is array of glyphs x points x 2 (angle in radians, distance).\n",
    "    We use float not the original ints from the font - according to https://github.com/fchollet/keras/issues/2218.\n",
    "    \"\"\"\n",
    "    font = TTFont(fontfile)\n",
    "    units_per_em = font['head'].unitsPerEm * 0.9\n",
    "    numglyphs = len(glyphs)\n",
    "    outlines = np.zeros((numglyphs, max_outline_points, LastDim.Last_dim_size), np.float32)\n",
    "    for i, letter in enumerate(glyphs):\n",
    "        contours = get_glyph_coordinates(font, letter)\n",
    "        j = 0\n",
    "        startp = (0,0.1)\n",
    "        # ttx contours are areas within the glyph, like the outside and inside outlines of an O\n",
    "        for xy in contours:\n",
    "            # fill output matrix, start with hidden line to start position\n",
    "            outlines[i,j,LastDim.DX] = (xy[0][0]-startp[0]) / units_per_em\n",
    "            outlines[i,j,LastDim.DY] = (xy[0][1]-startp[1]) / units_per_em\n",
    "            outlines[i,j,LastDim.Show] = 0\n",
    "            j = j+1\n",
    "            if j>=max_outline_points: break\n",
    "            startp = xy[0]\n",
    "            # then between points\n",
    "            for n in range(len(xy)-1):\n",
    "                outlines[i,j,LastDim.DX] = (xy[n+1][0]-xy[n][0])/ units_per_em\n",
    "                outlines[i,j,LastDim.DY] = (xy[n+1][1]-xy[n][1])/ units_per_em\n",
    "                outlines[i,j,LastDim.Show] = 1\n",
    "                j = j+1\n",
    "                if j>=max_outline_points: break\n",
    "            if j>=max_outline_points: break\n",
    "            # finally wrap last point to first in contour\n",
    "            N=len(xy)-1\n",
    "            outlines[i,j,LastDim.DX] = (xy[0][0]-xy[N][0])/ units_per_em\n",
    "            outlines[i,j,LastDim.DY] = (xy[0][1]-xy[N][1])/ units_per_em\n",
    "            outlines[i,j,LastDim.Show] = 1\n",
    "            j = j+1\n",
    "            if j >= max_outline_points: break\n",
    "        outlines[i, :j, LastDim.Active] = 1\n",
    "    return outlines"
   ]
  },
  {
   "cell_type": "code",
   "execution_count": 14,
   "metadata": {
    "collapsed": true
   },
   "outputs": [],
   "source": [
    "def draw_outlines(outlines, cellsize):\n",
    "    \"\"\"\n",
    "    Draw numpy array interpreted as a glyph per row and each row containing x,y or angle,dist pairs.\n",
    "    \"\"\"\n",
    "    columns = math.ceil(800/cellsize)\n",
    "    rows = math.ceil(outlines.shape[0]/columns)\n",
    "    \n",
    "    def draw_points(im, points, cellx, celly):\n",
    "        # temporary image to use to xor each part with main image\n",
    "        im2 = Image.new('1', size=(columns*cellsize, rows*cellsize), color=(0)) \n",
    "        draw = ImageDraw.Draw(im2) \n",
    "        draw.polygon(points, fill=1)\n",
    "        im = ImageChops.logical_xor(im, im2)\n",
    "        return im\n",
    "    \n",
    "    scale = cellsize * 0.9\n",
    "    im = Image.new('1', size=(columns*cellsize, rows*cellsize), color=(0)) \n",
    "    for i in range(outlines.shape[0]):\n",
    "        celly, cellx = divmod(i, columns)\n",
    "        cellx *= cellsize\n",
    "        celly *= cellsize\n",
    "        points = []\n",
    "        x, y = (0, cellsize-1)\n",
    "        for j in range(outlines.shape[1]):\n",
    "            if outlines[i][j][LastDim.Active] < 0.5: \n",
    "                break;\n",
    "            x += outlines[i][j][LastDim.DX]*scale\n",
    "            y -= outlines[i][j][LastDim.DY]*scale\n",
    "            if outlines[i][j][LastDim.Show] > 0.5:\n",
    "                points += (cellx+x,celly+y)\n",
    "            elif len(points) > 2:\n",
    "                im = draw_points(im, points, cellx, celly)\n",
    "                points=[]\n",
    "        if len(points) > 2:\n",
    "            im = draw_points(im, points, cellx, celly)\n",
    "    return im\n",
    "\n",
    "\n",
    "def draw_xys(xxs, ygrid, cellsize):\n",
    "    \"\"\"\n",
    "    Draw a glyph rasterisation based on a input y coord array with array of x-intercepts of lines with the y coord\n",
    "    \"\"\"\n",
    "    columns = math.ceil(800/cellsize)\n",
    "    rows = math.ceil(xxs.shape[0]/columns)\n",
    "    scale = cellsize * 0.9\n",
    "    im = Image.new('1', size=(columns*cellsize, rows*cellsize), color=(0)) \n",
    "    draw = ImageDraw.Draw(im) \n",
    "    for i in range(xxs.shape[0]):\n",
    "        yy,xx = divmod(i, columns)\n",
    "        xx *= cellsize\n",
    "        yy = (yy+1)*cellsize-1\n",
    "        for xs, y in zip(xxs[i], ygrid):\n",
    "            for x in xs:\n",
    "                if x>0.0:\n",
    "                    draw.ellipse((xx+x*scale, yy-y*scale, xx+x*scale+3, yy-y*scale+3), fill=1)\n",
    "    return im"
   ]
  },
  {
   "cell_type": "code",
   "execution_count": 18,
   "metadata": {},
   "outputs": [
    {
     "name": "stdout",
     "output_type": "stream",
     "text": [
      "setup...\n"
     ]
    },
    {
     "name": "stdout",
     "output_type": "stream",
     "text": [
      "outline shape:  (62, 110, 4)\n"
     ]
    },
    {
     "data": {
      "image/png": "[encoded data removed]",
      "text/plain": [
       "<PIL.Image.Image image mode=1 size=800x200 at 0x20CC0514A20>"
      ]
     },
     "metadata": {},
     "output_type": "display_data"
    },
    {
     "data": {
      "image/png": "[encoded data removed]",
      "text/plain": [
       "<PIL.Image.Image image mode=1 size=800x200 at 0x20CC058E4A8>"
      ]
     },
     "metadata": {},
     "output_type": "display_data"
    }
   ],
   "source": [
    "print('setup...')\n",
    "glyphs = [chr(i) for i in range(ord('A'), ord('Z')+1)]\n",
    "glyphs += [chr(i) for i in range(ord('a'), ord('z')+1)]\n",
    "glyphs += ['zero','one','two','three','four','five','six','seven','eight','nine']\n",
    "#glyphs = ['A','B','a','b','one','two']\n",
    "max_points_per_line = 10 # required for g, m\n",
    "max_outline_points = 110\n",
    "y_divisions = 20\n",
    "ygrid = np.linspace(0.0, 1.0, y_divisions, endpoint=False)  # y coordinates to render on\n",
    "#inputs, outlines = read_fonts(glyphs, max_outline_points, ygrid)\n",
    "outlines = generate_outlines('deeper/Courier Prime.ttf', glyphs)\n",
    "with tf.Session() as sess:\n",
    "    xcoords = render_glyphs(outlines, max_points_per_line, ygrid).eval()\n",
    "batch_size=outlines.shape[0]\n",
    "print(\"outline shape: \", outlines.shape)\n",
    "cellsize = 50\n",
    "#draw_outlines(outlines, cellsize)\n",
    "display(draw_outlines(outlines, cellsize), draw_xys(xcoords, ygrid, cellsize))"
   ]
  },
  {
   "cell_type": "code",
   "execution_count": 21,
   "metadata": {},
   "outputs": [
    {
     "name": "stdout",
     "output_type": "stream",
     "text": [
      "[[ 0.41  0.28  0.    0.    0.    0.    0.    0.    0.    0.  ]\n [ 0.51  0.17  0.    0.    0.    0.    0.    0.    0.    0.  ]\n [ 0.56  0.44  0.25  0.12  0.    0.    0.    0.    0.    0.  ]\n [ 0.59  0.49  0.19  0.1   0.    0.    0.    0.    0.    0.  ]\n [ 0.61  0.52  0.17  0.08  0.    0.    0.    0.    0.    0.  ]\n [ 0.61  0.53  0.16  0.08  0.    0.    0.    0.    0.    0.  ]\n [ 0.61  0.53  0.16  0.08  0.    0.    0.    0.    0.    0.  ]\n [ 0.6   0.51  0.18  0.09  0.    0.    0.    0.    0.    0.  ]\n [ 0.58  0.47  0.22  0.11  0.    0.    0.    0.    0.    0.  ]\n [ 0.53  0.15  0.    0.    0.    0.    0.    0.    0.    0.  ]\n [ 0.46  0.23  0.    0.    0.    0.    0.    0.    0.    0.  ]\n [ 0.    0.    0.    0.    0.    0.    0.    0.    0.    0.  ]\n [ 0.    0.    0.    0.    0.    0.    0.    0.    0.    0.  ]\n [ 0.    0.    0.    0.    0.    0.    0.    0.    0.    0.  ]\n [ 0.    0.    0.    0.    0.    0.    0.    0.    0.    0.  ]\n [ 0.    0.    0.    0.    0.    0.    0.    0.    0.    0.  ]\n [ 0.    0.    0.    0.    0.    0.    0.    0.    0.    0.  ]\n [ 0.    0.    0.    0.    0.    0.    0.    0.    0.    0.  ]\n [ 0.    0.    0.    0.    0.    0.    0.    0.    0.    0.  ]\n [ 0.    0.    0.    0.    0.    0.    0.    0.    0.    0.  ]]\n(200, 110, 4)\n"
     ]
    }
   ],
   "source": [
    "pool_size = 200\n",
    "\n",
    "target = np.zeros((1, outlines.shape[1], outlines.shape[2]))\n",
    "target[:] = outlines[26+ord('o')-ord('a')]  # target letter 'b'\n",
    "with tf.Session() as sess:\n",
    "    target_coords = render_glyphs(target, max_points_per_line, ygrid).eval()\n",
    "print(target_coords[0])\n",
    "seed(1)\n",
    "orig_pool = np.zeros((pool_size, outlines.shape[1], outlines.shape[2]))\n",
    "orig_pool[:] = outlines[26]  # start with letter 'a'\n",
    "print(orig_pool.shape)\n"
   ]
  },
  {
   "cell_type": "code",
   "execution_count": 33,
   "metadata": {
    "collapsed": true
   },
   "outputs": [
    {
     "name": "stdout",
     "output_type": "stream",
     "text": [
      "orig [[ 0.59  0.07  0.    1.  ]\n [ 0.02  0.    1.    1.  ]\n [ 0.02 -0.02  1.    1.  ]\n [ 0.   -0.02  1.    1.  ]\n [ 0.   -0.02  1.    1.  ]]\npool (5, 110, 4)\n"
     ]
    },
    {
     "name": "stdout",
     "output_type": "stream",
     "text": [
      "score [ 1071.03  1071.03  1071.03  1071.03  1071.03] 1071.03 1071.03\nnorm_scores [  1.00e-06   1.00e-06   1.00e-06   1.00e-06   1.00e-06]\nnorm_scores2 [ 0.2  0.2  0.2  0.2  0.2]\npool"
     ]
    },
    {
     "name": "stdout",
     "output_type": "stream",
     "text": [
      " (5, 110, 4)\nscore [  417.22   369.62   468.45  1071.03  1071.03] 166.166 91.3954\nnorm_scores [  1.94e+02   1.00e-06   4.64e+00   7.74e+02   7.74e+02]\nnorm_scores2 [  7.53e-02   5.09e-10   1.47e-01   3.89e-01   3.89e-01]\n"
     ]
    }
   ],
   "source": [
    "\n",
    "def evolve(pool: tf.Tensor, debug=False) -> (tf.Tensor, float):\n",
    "    \"\"\"\n",
    "    The gene pool is represented as a 3D tensor: the first dimension (row) corresponds to different genes each giving \n",
    "    rise to an organism (font), the second dimension (column) represents multiple bases giving each step in a font \n",
    "    outline, the third dimension is a vector of dx, dy, draw and end components.\n",
    "\n",
    "    We evolve our population with differential selection, combination and copy and insert/delete mutations.  To \n",
    "    propagate genes differentially based on fitness, we pick a new population by sampling a distribution with \n",
    "    probability for each gene.  This is calculated as the normalised fitness using the TensorFlow Categorical \n",
    "    distribution which gives a category index as the result of each sample which we use as the first index to gather \n",
    "    from the gene pool tensor.\n",
    "\n",
    "    To apply insert/delete mutations, we build a set of indices initialised to to the identity function, perturbed with \n",
    "    a cummulative random normal rounded to a integer offset.  For example \n",
    "    the rounded random normal vector [0, 0, 1, 0, 2, -1, 0], \n",
    "    accumulated gives [0, 0, 1, 1, 3, 2, 2], \n",
    "    and added to the identity vector [0, 1, 2, ...] \n",
    "    gives [0, 1, 3, 4, 7, 7, 8] which we use as the second index into the gene pool tensor.  \n",
    "    This supports mutations of adding and deleting bases from the gene, with a probability proportional to the standard \n",
    "    deviation of the random normals.\n",
    "\n",
    "    For gene combination we apply a similar cummulative random normal offset to the Categorical distribution indices, \n",
    "    which has the effect of switching the selected gene (row).  As the gene rows are unsorted, this will pick successive \n",
    "    bases from a likely different neighbouring gene.\n",
    "\n",
    "    Finally, to implement base copying mutations we choose a small set of tensor indices to offset with a random normal.\n",
    "    \n",
    "    :param pool: gene pool as 3D tensor \n",
    "    :param debug:  flag to display partial results\n",
    "    :return: pair of new gene pool and a max score for tracking progress\n",
    "    \"\"\"\n",
    "    \n",
    "    copy_mutation_sd = 1e-3\n",
    "    base_mutation_rate = 1e-2\n",
    "\n",
    "    if debug:\n",
    "        print('pool', pool.shape)\n",
    "    if isinstance(pool.shape, tf.TensorShape):\n",
    "        dims = [d.value for d in pool.shape]\n",
    "    else:  # np.ndarray\n",
    "        dims = pool.shape\n",
    "    xcoords = render_glyphs(pool, max_points_per_line, ygrid)\n",
    "    scores = 1e3 / tf.reduce_sum(tf.square(xcoords-target_coords), axis=(1, 2))\n",
    "    norm_scores = scores - tf.reduce_min(scores) +1e-6\n",
    "    norm_scores2 = norm_scores / tf.reduce_sum(norm_scores)\n",
    "    dist = tf.distributions.Categorical(probs=norm_scores2)\n",
    "    new_pop_indices = dist.sample(pool.shape[0], seed=1)\n",
    "    if debug:\n",
    "        #print('xcoords', xcoords.eval())\n",
    "        #print('target', target_coords)\n",
    "        #print('x-target', (xcoords-target_coords).eval())\n",
    "        print('score', scores.eval(), tf.reduce_min(scores).eval(), tf.reduce_min(scores).eval())\n",
    "        print('norm_scores', norm_scores.eval())\n",
    "        print('norm_scores2', norm_scores2.eval())\n",
    "    norms0 = tf.distributions.Normal(0.0, copy_mutation_sd).sample(pool.shape[0:2], seed=1)\n",
    "    row_offsets = tf.cumsum(tf.cast(tf.round(norms0), tf.int32), axis=1)\n",
    "    row_indices = tf.clip_by_value(tf.add(tf.reshape(new_pop_indices, (-1, 1)), row_offsets), 0, pool.shape[0]-1)\n",
    "    # note eval-ing a sample gives different values each time; new samples are drawn\n",
    "    # print('row_offsets', row_offsets.shape, '\\n', row_offsets.eval()[0:3, 0:12], '\\n', row_indices.eval()[0:3, 0:12])\n",
    "    norms1 = tf.distributions.Normal(1.0, copy_mutation_sd).sample(pool.shape[0:2], seed=1)\n",
    "    column_indices = tf.clip_by_value(tf.cumsum(tf.cast(tf.round(norms1), tf.int32), axis=1), 0, pool.shape[1])-1\n",
    "    indices = tf.stack((row_indices, column_indices), axis=-1)\n",
    "    # print('indices', indices.eval())\n",
    "    new_pool = tf.gather_nd(pool, indices)\n",
    "    mutations = int(np.prod(dims) * base_mutation_rate)\n",
    "    mutation_rows = tf.cast(tf.distributions.Uniform(0.0, float(dims[0]) - 1e-6).sample(mutations, seed=1), tf.int32)\n",
    "    mutation_cols = tf.cast(tf.distributions.Uniform(0.0, float(dims[1]) - 1e-6).sample(mutations, seed=1), tf.int32)\n",
    "    mutations_index3 = tf.cast(tf.distributions.Uniform(0.0, float(dims[2])-1e-6).sample(mutations, seed=1), tf.int32)\n",
    "    mutation_indices = tf.stack((mutation_rows, mutation_cols, mutations_index3), axis=-1)\n",
    "    mutation_amounts = tf.distributions.Normal(0.0, 0.1).sample(mutations, seed=1)\n",
    "    mutation_tensor = tf.scatter_nd(mutation_indices, mutation_amounts, pool.shape)\n",
    "    # print('mutation_indices', mutation_indices.eval(), mutation_amounts.eval(), mutation_tensor.eval())\n",
    "    return new_pool + mutation_tensor, tf.reduce_max(scores)\n",
    "\n",
    "\n",
    "gene_pool = orig_pool.astype(np.float32)\n",
    "debug = True\n",
    "if debug:\n",
    "    with tf.Session() as sess:\n",
    "        print('orig', orig_pool[0, 0:5])\n",
    "        gene_pool = gene_pool[0:5]\n",
    "        gene_pool, maxscore = evolve(gene_pool, True)\n",
    "        gene_pool, maxscore = evolve(gene_pool, True)\n",
    "else:\n",
    "    generations = gene_pool[0:1]\n",
    "    tf_input = tf.placeholder(tf.float32, orig_pool.shape, 'pool')\n",
    "    tf_evolve = evolve(tf_input)\n",
    "    with tf.Session() as sess:\n",
    "        #print('orig', orig_pool[0, 0:5])\n",
    "        for gen in range(0, 5):\n",
    "            for i in range(0, 5):\n",
    "                # debug\n",
    "                # evolve(gene_pool)\n",
    "                \n",
    "                gene_pool, max_score = sess.run(tf_evolve, {tf_input: gene_pool})\n",
    "                # print(gene_pool[0, 0:5])\n",
    "            print(gen, max_score)\n",
    "            #print('last', gene_pool[0, 0:5].eval())\n",
    "            generations = np.append(generations, gene_pool[0:1], axis=0)\n",
    "    \n",
    "    draw_outlines(generations, cellsize, scheme)"
   ]
  },
  {
   "cell_type": "code",
   "execution_count": 104,
   "metadata": {},
   "outputs": [
    {
     "name": "stdout",
     "output_type": "stream",
     "text": [
      "fitting model...\n"
     ]
    },
    {
     "ename": "NameError",
     "evalue": "name 'model' is not defined",
     "traceback": [
      "\u001b[1;31m---------------------------------------------------------------------------\u001b[0m",
      "\u001b[1;31mNameError\u001b[0m                                 Traceback (most recent call last)",
      "\u001b[1;32m<ipython-input-104-c2aaadfa87b8>\u001b[0m in \u001b[0;36m<module>\u001b[1;34m()\u001b[0m\n\u001b[0;32m      1\u001b[0m \u001b[0mprint\u001b[0m\u001b[1;33m(\u001b[0m\u001b[1;34m'fitting model...'\u001b[0m\u001b[1;33m)\u001b[0m\u001b[1;33m\u001b[0m\u001b[0m\n\u001b[0;32m      2\u001b[0m \u001b[0mepochs\u001b[0m\u001b[1;33m=\u001b[0m\u001b[1;36m1000\u001b[0m\u001b[1;33m\u001b[0m\u001b[0m\n\u001b[1;32m----> 3\u001b[1;33m \u001b[0mlogs\u001b[0m \u001b[1;33m=\u001b[0m \u001b[1;34m'logs/deeper-p'\u001b[0m\u001b[1;33m+\u001b[0m\u001b[0mstr\u001b[0m\u001b[1;33m(\u001b[0m\u001b[0mnp\u001b[0m\u001b[1;33m.\u001b[0m\u001b[0msum\u001b[0m\u001b[1;33m(\u001b[0m\u001b[1;33m[\u001b[0m\u001b[0mnp\u001b[0m\u001b[1;33m.\u001b[0m\u001b[0mprod\u001b[0m\u001b[1;33m(\u001b[0m\u001b[0mt\u001b[0m\u001b[1;33m.\u001b[0m\u001b[0mshape\u001b[0m\u001b[1;33m)\u001b[0m \u001b[1;32mfor\u001b[0m \u001b[0mt\u001b[0m \u001b[1;32min\u001b[0m \u001b[0mmodel\u001b[0m\u001b[1;33m.\u001b[0m\u001b[0mget_weights\u001b[0m\u001b[1;33m(\u001b[0m\u001b[1;33m)\u001b[0m\u001b[1;33m]\u001b[0m\u001b[1;33m)\u001b[0m\u001b[1;33m)\u001b[0m\u001b[1;33m+\u001b[0m\u001b[1;34m'-e'\u001b[0m\u001b[1;33m+\u001b[0m\u001b[0mstr\u001b[0m\u001b[1;33m(\u001b[0m\u001b[0mepochs\u001b[0m\u001b[1;33m)\u001b[0m\u001b[1;33m\u001b[0m\u001b[0m\n\u001b[0m\u001b[0;32m      4\u001b[0m \u001b[0mprint\u001b[0m\u001b[1;33m(\u001b[0m\u001b[0mlogs\u001b[0m\u001b[1;33m)\u001b[0m\u001b[1;33m\u001b[0m\u001b[0m\n\u001b[0;32m      5\u001b[0m \u001b[0mprint\u001b[0m\u001b[1;33m(\u001b[0m\u001b[1;34m'view using:\\ntensorboard --logdir='\u001b[0m\u001b[1;33m+\u001b[0m\u001b[0mos\u001b[0m\u001b[1;33m.\u001b[0m\u001b[0mpath\u001b[0m\u001b[1;33m.\u001b[0m\u001b[0mabspath\u001b[0m\u001b[1;33m(\u001b[0m\u001b[1;34m'logs'\u001b[0m\u001b[1;33m)\u001b[0m\u001b[1;33m)\u001b[0m\u001b[1;33m\u001b[0m\u001b[0m\n",
      "\u001b[1;31mNameError\u001b[0m: name 'model' is not defined"
     ],
     "output_type": "error"
    }
   ],
   "source": [
    "print('fitting model...')\n",
    "epochs=1000\n",
    "logs = 'logs/deeper-p'+str(np.sum([np.prod(t.shape) for t in model.get_weights()]))+'-e'+str(epochs)\n",
    "print(logs)\n",
    "print('view using:\\ntensorboard --logdir='+os.path.abspath('logs'))\n",
    "board = TensorBoard(log_dir=logs)\n",
    "\n",
    "model.fit(inputs, \n",
    "          {'scalars':outlines[:,:,0:2], 'showflags':outlines[:,:,2], 'activeflags':outlines[:,:,3]},\n",
    "          batch_size=outlines.shape[0], epochs=epochs, verbose=0, callbacks=[board], shuffle=False)\n",
    "scores = model.evaluate(inputs, {'scalars':outlines[:,:,0:2], 'showflags':outlines[:,:,2], 'activeflags':outlines[:,:,3]}, verbose=2)\n",
    "print(\"%s: %.2f%%\" % (model.metrics_names[0], scores[0]*100))\n",
    "print(\"%s: %.2f%%\" % (model.metrics_names[1], scores[1]*100))\n",
    "print(\"%s: %.2f%%\" % (model.metrics_names[2], scores[2]*100))"
   ]
  },
  {
   "cell_type": "code",
   "execution_count": 105,
   "metadata": {
    "collapsed": true
   },
   "outputs": [
    {
     "ename": "NameError",
     "evalue": "name 'model' is not defined",
     "traceback": [
      "\u001b[1;31m---------------------------------------------------------------------------\u001b[0m",
      "\u001b[1;31mNameError\u001b[0m                                 Traceback (most recent call last)",
      "\u001b[1;32m<ipython-input-105-b90cba243325>\u001b[0m in \u001b[0;36m<module>\u001b[1;34m()\u001b[0m\n\u001b[1;32m----> 1\u001b[1;33m \u001b[0m_scalars\u001b[0m\u001b[1;33m,\u001b[0m \u001b[0m_showflags\u001b[0m\u001b[1;33m,\u001b[0m \u001b[0m_activeflags\u001b[0m \u001b[1;33m=\u001b[0m \u001b[0mmodel\u001b[0m\u001b[1;33m.\u001b[0m\u001b[0mpredict\u001b[0m\u001b[1;33m(\u001b[0m\u001b[0minputs\u001b[0m\u001b[1;33m,\u001b[0m \u001b[0mverbose\u001b[0m\u001b[1;33m=\u001b[0m\u001b[1;36m0\u001b[0m\u001b[1;33m)\u001b[0m\u001b[1;33m\u001b[0m\u001b[0m\n\u001b[0m\u001b[0;32m      2\u001b[0m \u001b[0mnewoutlines\u001b[0m \u001b[1;33m=\u001b[0m \u001b[0mnp\u001b[0m\u001b[1;33m.\u001b[0m\u001b[0mconcatenate\u001b[0m\u001b[1;33m(\u001b[0m\u001b[1;33m(\u001b[0m\u001b[0m_scalars\u001b[0m\u001b[1;33m,\u001b[0m \u001b[0mnp\u001b[0m\u001b[1;33m.\u001b[0m\u001b[0mexpand_dims\u001b[0m\u001b[1;33m(\u001b[0m\u001b[0m_showflags\u001b[0m\u001b[1;33m,\u001b[0m\u001b[1;36m2\u001b[0m\u001b[1;33m)\u001b[0m\u001b[1;33m,\u001b[0m \u001b[0mnp\u001b[0m\u001b[1;33m.\u001b[0m\u001b[0mexpand_dims\u001b[0m\u001b[1;33m(\u001b[0m\u001b[0m_activeflags\u001b[0m\u001b[1;33m,\u001b[0m\u001b[1;36m2\u001b[0m\u001b[1;33m)\u001b[0m\u001b[1;33m)\u001b[0m\u001b[1;33m,\u001b[0m \u001b[0maxis\u001b[0m\u001b[1;33m=\u001b[0m\u001b[1;36m2\u001b[0m\u001b[1;33m)\u001b[0m\u001b[1;33m\u001b[0m\u001b[0m\n",
      "\u001b[1;31mNameError\u001b[0m: name 'model' is not defined"
     ],
     "output_type": "error"
    }
   ],
   "source": [
    "_scalars, _showflags, _activeflags = model.predict(inputs, verbose=0)\n",
    "newoutlines = np.concatenate((_scalars, np.expand_dims(_showflags,2), np.expand_dims(_activeflags,2)), axis=2)"
   ]
  },
  {
   "cell_type": "code",
   "execution_count": 106,
   "metadata": {
    "collapsed": false,
    "scrolled": true
   },
   "outputs": [
    {
     "ename": "NameError",
     "evalue": "name 'newoutlines' is not defined",
     "traceback": [
      "\u001b[1;31m---------------------------------------------------------------------------\u001b[0m",
      "\u001b[1;31mNameError\u001b[0m                                 Traceback (most recent call last)",
      "\u001b[1;32m<ipython-input-106-c9fcdc5e55bb>\u001b[0m in \u001b[0;36m<module>\u001b[1;34m()\u001b[0m\n\u001b[1;32m----> 1\u001b[1;33m \u001b[0mdrawOutlines\u001b[0m\u001b[1;33m(\u001b[0m\u001b[0mnewoutlines\u001b[0m\u001b[1;33m,\u001b[0m \u001b[0mcellsize\u001b[0m\u001b[1;33m,\u001b[0m \u001b[0mscheme\u001b[0m\u001b[1;33m)\u001b[0m\u001b[1;33m\u001b[0m\u001b[0m\n\u001b[0m",
      "\u001b[1;31mNameError\u001b[0m: name 'newoutlines' is not defined"
     ],
     "output_type": "error"
    }
   ],
   "source": [
    "draw_outlines(newoutlines, cellsize, scheme)"
   ]
  },
  {
   "cell_type": "code",
   "execution_count": 107,
   "metadata": {
    "collapsed": true
   },
   "outputs": [
    {
     "ename": "NameError",
     "evalue": "name 'newoutlines' is not defined",
     "traceback": [
      "\u001b[1;31m---------------------------------------------------------------------------\u001b[0m",
      "\u001b[1;31mNameError\u001b[0m                                 Traceback (most recent call last)",
      "\u001b[1;32m<ipython-input-107-64c857a0562c>\u001b[0m in \u001b[0;36m<module>\u001b[1;34m()\u001b[0m\n\u001b[0;32m      1\u001b[0m \u001b[1;31m#show raw outputs for first glyph scaled by 100\u001b[0m\u001b[1;33m\u001b[0m\u001b[1;33m\u001b[0m\u001b[0m\n\u001b[0;32m      2\u001b[0m \u001b[0mnp\u001b[0m\u001b[1;33m.\u001b[0m\u001b[0mset_printoptions\u001b[0m\u001b[1;33m(\u001b[0m\u001b[0mprecision\u001b[0m\u001b[1;33m=\u001b[0m\u001b[1;36m0\u001b[0m\u001b[1;33m)\u001b[0m\u001b[1;33m\u001b[0m\u001b[0m\n\u001b[1;32m----> 3\u001b[1;33m \u001b[0mprint\u001b[0m\u001b[1;33m(\u001b[0m\u001b[0mnp\u001b[0m\u001b[1;33m.\u001b[0m\u001b[0mreshape\u001b[0m\u001b[1;33m(\u001b[0m\u001b[0mnp\u001b[0m\u001b[1;33m.\u001b[0m\u001b[0mstack\u001b[0m\u001b[1;33m(\u001b[0m\u001b[1;33m(\u001b[0m\u001b[0moutlines\u001b[0m\u001b[1;33m[\u001b[0m\u001b[1;36m0\u001b[0m\u001b[1;33m]\u001b[0m\u001b[1;33m*\u001b[0m\u001b[1;36m100\u001b[0m\u001b[1;33m,\u001b[0m \u001b[0mnewoutlines\u001b[0m\u001b[1;33m[\u001b[0m\u001b[1;36m0\u001b[0m\u001b[1;33m]\u001b[0m\u001b[1;33m*\u001b[0m\u001b[1;36m100\u001b[0m\u001b[1;33m)\u001b[0m\u001b[1;33m,\u001b[0m \u001b[0maxis\u001b[0m\u001b[1;33m=\u001b[0m\u001b[1;33m-\u001b[0m\u001b[1;36m1\u001b[0m\u001b[1;33m)\u001b[0m\u001b[1;33m.\u001b[0m\u001b[0mastype\u001b[0m\u001b[1;33m(\u001b[0m\u001b[0mnp\u001b[0m\u001b[1;33m.\u001b[0m\u001b[0mint\u001b[0m\u001b[1;33m)\u001b[0m\u001b[1;33m,\u001b[0m \u001b[1;33m(\u001b[0m\u001b[1;33m-\u001b[0m\u001b[1;36m1\u001b[0m\u001b[1;33m,\u001b[0m \u001b[1;36m8\u001b[0m\u001b[1;33m)\u001b[0m\u001b[1;33m)\u001b[0m\u001b[1;33m)\u001b[0m\u001b[1;33m\u001b[0m\u001b[0m\n\u001b[0m",
      "\u001b[1;31mNameError\u001b[0m: name 'newoutlines' is not defined"
     ],
     "output_type": "error"
    }
   ],
   "source": [
    "#show raw outputs for first glyph scaled by 100\n",
    "np.set_printoptions(precision=0)\n",
    "print(np.reshape(np.stack((outlines[0]*100, newoutlines[0]*100), axis=-1).astype(np.int), (-1, 8)))"
   ]
  },
  {
   "cell_type": "code",
   "execution_count": 108,
   "metadata": {
    "collapsed": true
   },
   "outputs": [
    {
     "ename": "NameError",
     "evalue": "name 'model' is not defined",
     "traceback": [
      "\u001b[1;31m---------------------------------------------------------------------------\u001b[0m",
      "\u001b[1;31mNameError\u001b[0m                                 Traceback (most recent call last)",
      "\u001b[1;32m<ipython-input-108-0b15927b9de7>\u001b[0m in \u001b[0;36m<module>\u001b[1;34m()\u001b[0m\n\u001b[0;32m      6\u001b[0m \u001b[0mmix\u001b[0m \u001b[1;33m=\u001b[0m \u001b[0mnp\u001b[0m\u001b[1;33m.\u001b[0m\u001b[0marray\u001b[0m\u001b[1;33m(\u001b[0m\u001b[1;33m[\u001b[0m\u001b[0mA\u001b[0m\u001b[1;33m*\u001b[0m\u001b[1;33m(\u001b[0m\u001b[0msteps\u001b[0m\u001b[1;33m-\u001b[0m\u001b[0mi\u001b[0m\u001b[1;33m)\u001b[0m\u001b[1;33m/\u001b[0m\u001b[0msteps\u001b[0m \u001b[1;33m+\u001b[0m \u001b[0mi\u001b[0m\u001b[1;33m*\u001b[0m\u001b[0mB\u001b[0m\u001b[1;33m/\u001b[0m\u001b[0msteps\u001b[0m \u001b[1;32mfor\u001b[0m \u001b[0mi\u001b[0m \u001b[1;32min\u001b[0m \u001b[0mrange\u001b[0m\u001b[1;33m(\u001b[0m\u001b[0msteps\u001b[0m\u001b[1;33m+\u001b[0m\u001b[1;36m5\u001b[0m\u001b[1;33m)\u001b[0m\u001b[1;33m]\u001b[0m\u001b[1;33m)\u001b[0m\u001b[1;33m\u001b[0m\u001b[0m\n\u001b[0;32m      7\u001b[0m \u001b[1;31m#print(mix[:3])\u001b[0m\u001b[1;33m\u001b[0m\u001b[1;33m\u001b[0m\u001b[0m\n\u001b[1;32m----> 8\u001b[1;33m \u001b[0minterp\u001b[0m \u001b[1;33m=\u001b[0m \u001b[0mmodel\u001b[0m\u001b[1;33m.\u001b[0m\u001b[0mpredict\u001b[0m\u001b[1;33m(\u001b[0m\u001b[0mmix\u001b[0m\u001b[1;33m,\u001b[0m \u001b[0mverbose\u001b[0m\u001b[1;33m=\u001b[0m\u001b[1;36m1\u001b[0m\u001b[1;33m)\u001b[0m\u001b[1;33m\u001b[0m\u001b[0m\n\u001b[0m\u001b[0;32m      9\u001b[0m \u001b[0mdrawOutlines\u001b[0m\u001b[1;33m(\u001b[0m\u001b[0minterp\u001b[0m\u001b[1;33m,\u001b[0m \u001b[0mcellsize\u001b[0m\u001b[1;33m*\u001b[0m\u001b[1;36m5\u001b[0m\u001b[1;33m,\u001b[0m \u001b[0mscheme\u001b[0m\u001b[1;33m)\u001b[0m\u001b[1;33m\u001b[0m\u001b[0m\n\u001b[0;32m     10\u001b[0m \u001b[1;31m#not very convincing :(, perhaps raw points rather than angle, dist pairs for the outline would be better\u001b[0m\u001b[1;33m\u001b[0m\u001b[1;33m\u001b[0m\u001b[0m\n",
      "\u001b[1;31mNameError\u001b[0m: name 'model' is not defined"
     ],
     "output_type": "error"
    }
   ],
   "source": [
    "#what about interpolating between glyphs?  let's try gradually mixing A into B\n",
    "#need array [[1, 0, ...], [1, 0.1, ...]]\n",
    "A = inputs[4]\n",
    "B = inputs[5]\n",
    "steps=12\n",
    "mix = np.array([A*(steps-i)/steps + i*B/steps for i in range(steps+5)])\n",
    "#print(mix[:3])\n",
    "interp = model.predict(mix, verbose=1)\n",
    "draw_outlines(interp, cellsize * 5, scheme)\n",
    "#not very convincing :(, perhaps raw points rather than angle, dist pairs for the outline would be better\n",
    "#also need to try interpolating A between two fonts"
   ]
  },
  {
   "cell_type": "code",
   "execution_count": 109,
   "metadata": {
    "collapsed": true
   },
   "outputs": [
    {
     "ename": "NameError",
     "evalue": "name 'model' is not defined",
     "traceback": [
      "\u001b[1;31m---------------------------------------------------------------------------\u001b[0m",
      "\u001b[1;31mNameError\u001b[0m                                 Traceback (most recent call last)",
      "\u001b[1;32m<ipython-input-109-37951e99d807>\u001b[0m in \u001b[0;36m<module>\u001b[1;34m()\u001b[0m\n\u001b[0;32m      1\u001b[0m \u001b[1;31m#now, what happens when we predict mixed glyphs?\u001b[0m\u001b[1;33m\u001b[0m\u001b[1;33m\u001b[0m\u001b[0m\n\u001b[1;32m----> 2\u001b[1;33m \u001b[0mmixed_outlines\u001b[0m \u001b[1;33m=\u001b[0m \u001b[0mmodel\u001b[0m\u001b[1;33m.\u001b[0m\u001b[0mpredict\u001b[0m\u001b[1;33m(\u001b[0m\u001b[0mnp\u001b[0m\u001b[1;33m.\u001b[0m\u001b[0mrandom\u001b[0m\u001b[1;33m.\u001b[0m\u001b[0mrandom\u001b[0m\u001b[1;33m(\u001b[0m\u001b[0minputs\u001b[0m\u001b[1;33m.\u001b[0m\u001b[0mshape\u001b[0m\u001b[1;33m)\u001b[0m\u001b[1;33m,\u001b[0m \u001b[0mverbose\u001b[0m\u001b[1;33m=\u001b[0m\u001b[1;36m1\u001b[0m\u001b[1;33m)\u001b[0m\u001b[1;33m\u001b[0m\u001b[0m\n\u001b[0m\u001b[0;32m      3\u001b[0m \u001b[0mdrawOutlines\u001b[0m\u001b[1;33m(\u001b[0m\u001b[0mmixed_outlines\u001b[0m\u001b[1;33m,\u001b[0m \u001b[0mcellsize\u001b[0m\u001b[1;33m,\u001b[0m \u001b[0mscheme\u001b[0m\u001b[1;33m)\u001b[0m\u001b[1;33m\u001b[0m\u001b[0m\n",
      "\u001b[1;31mNameError\u001b[0m: name 'model' is not defined"
     ],
     "output_type": "error"
    }
   ],
   "source": [
    "#now, what happens when we predict mixed glyphs?\n",
    "mixed_outlines = model.predict(np.random.random(inputs.shape), verbose=1)\n",
    "draw_outlines(mixed_outlines, cellsize, scheme)"
   ]
  },
  {
   "cell_type": "code",
   "execution_count": 110,
   "metadata": {
    "collapsed": true
   },
   "outputs": [],
   "source": []
  }
 ],
 "metadata": {
  "anaconda-cloud": {},
  "kernelspec": {
   "display_name": "Python 3",
   "language": "python",
   "name": "python3"
  },
  "language_info": {
   "codemirror_mode": {
    "name": "ipython",
    "version": 3
   },
   "file_extension": ".py",
   "mimetype": "text/x-python",
   "name": "python",
   "nbconvert_exporter": "python",
   "pygments_lexer": "ipython3",
   "version": "3.6.3"
  }
 },
 "nbformat": 4,
 "nbformat_minor": 1
}
